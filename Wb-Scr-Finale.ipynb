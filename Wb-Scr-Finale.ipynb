{
 "cells": [
  {
   "cell_type": "markdown",
   "metadata": {},
   "source": [
    "#Web Scraping de la página de Segunda Mano"
   ]
  },
  {
   "cell_type": "code",
   "execution_count": 1,
   "metadata": {},
   "outputs": [],
   "source": [
    "from selenium import webdriver"
   ]
  },
  {
   "cell_type": "code",
   "execution_count": 4,
   "metadata": {},
   "outputs": [],
   "source": [
    "trails = webdriver.Chrome()"
   ]
  },
  {
   "cell_type": "code",
   "execution_count": 21,
   "metadata": {},
   "outputs": [],
   "source": [
    "trails.get('https://www.segundamano.mx/anuncios/ciudad-de-mexico/renta-inmuebles/departamentos')"
   ]
  },
  {
   "cell_type": "code",
   "execution_count": 22,
   "metadata": {},
   "outputs": [],
   "source": [
    "info = trails.find_elements_by_class_name('card-info')"
   ]
  },
  {
   "cell_type": "code",
   "execution_count": 23,
   "metadata": {},
   "outputs": [],
   "source": [
    "info[0].click()"
   ]
  },
  {
   "cell_type": "code",
   "execution_count": 19,
   "metadata": {},
   "outputs": [
    {
     "data": {
      "text/plain": [
       "['Una',\n",
       " 'Recamara',\n",
       " 'Miguel',\n",
       " 'Hidalgo,',\n",
       " 'Ciudad',\n",
       " 'de',\n",
       " 'México',\n",
       " '$',\n",
       " '17,500',\n",
       " '55',\n",
       " 'm²',\n",
       " '|',\n",
       " '1',\n",
       " 'recámara',\n",
       " '|',\n",
       " '1',\n",
       " 'baño',\n",
       " 'Publicado',\n",
       " 'hace',\n",
       " '3',\n",
       " 'horas']"
      ]
     },
     "execution_count": 19,
     "metadata": {},
     "output_type": "execute_result"
    }
   ],
   "source": [
    "adress = [(i.text) for i in info ]\n",
    "adress[0].split()\n"
   ]
  },
  {
   "cell_type": "code",
   "execution_count": 109,
   "metadata": {},
   "outputs": [
    {
     "data": {
      "text/html": [
       "<div>\n",
       "<style scoped>\n",
       "    .dataframe tbody tr th:only-of-type {\n",
       "        vertical-align: middle;\n",
       "    }\n",
       "\n",
       "    .dataframe tbody tr th {\n",
       "        vertical-align: top;\n",
       "    }\n",
       "\n",
       "    .dataframe thead th {\n",
       "        text-align: right;\n",
       "    }\n",
       "</style>\n",
       "<table border=\"1\" class=\"dataframe\">\n",
       "  <thead>\n",
       "    <tr style=\"text-align: right;\">\n",
       "      <th></th>\n",
       "      <th>0</th>\n",
       "    </tr>\n",
       "  </thead>\n",
       "  <tbody>\n",
       "    <tr>\n",
       "      <th>0</th>\n",
       "      <td>Una Recamara\\nMiguel Hidalgo, Ciudad de México...</td>\n",
       "    </tr>\n",
       "    <tr>\n",
       "      <th>1</th>\n",
       "      <td>Edificio antiguo. 3 recamaras\\nBenito Juárez, ...</td>\n",
       "    </tr>\n",
       "    <tr>\n",
       "      <th>2</th>\n",
       "      <td>Departamento · 320m² Polanco\\nMiguel Hidalgo, ...</td>\n",
       "    </tr>\n",
       "    <tr>\n",
       "      <th>3</th>\n",
       "      <td>Se renta departamento 2 recamaras\\nBenito Juár...</td>\n",
       "    </tr>\n",
       "    <tr>\n",
       "      <th>4</th>\n",
       "      <td>Departamento - Azcapotzalco\\nAzcapotzalco, Ciu...</td>\n",
       "    </tr>\n",
       "    <tr>\n",
       "      <th>5</th>\n",
       "      <td>Precioso depa en renta city towers green 3 rec...</td>\n",
       "    </tr>\n",
       "    <tr>\n",
       "      <th>6</th>\n",
       "      <td>Departamento lujoso dos garages\\nÁlvaro Obregó...</td>\n",
       "    </tr>\n",
       "    <tr>\n",
       "      <th>7</th>\n",
       "      <td>Depa amueblado remodelado a 15 minutos de Pola...</td>\n",
       "    </tr>\n",
       "    <tr>\n",
       "      <th>8</th>\n",
       "      <td>Depa en renta con rof garden enorme\\nBenito Ju...</td>\n",
       "    </tr>\n",
       "    <tr>\n",
       "      <th>9</th>\n",
       "      <td>Departamento súper ubicado cerca de c.u\\nCoyoa...</td>\n",
       "    </tr>\n",
       "    <tr>\n",
       "      <th>10</th>\n",
       "      <td>Rento espectacular depa en Barranca del Muerto...</td>\n",
       "    </tr>\n",
       "    <tr>\n",
       "      <th>11</th>\n",
       "      <td>Rento a 10 minutos de Polanco\\nMiguel Hidalgo,...</td>\n",
       "    </tr>\n",
       "    <tr>\n",
       "      <th>12</th>\n",
       "      <td>Narvarte Oriente cerca recamaras terraza ilumi...</td>\n",
       "    </tr>\n",
       "    <tr>\n",
       "      <th>13</th>\n",
       "      <td>Bahia de san hipolito 43 anzures frente a Peme...</td>\n",
       "    </tr>\n",
       "    <tr>\n",
       "      <th>14</th>\n",
       "      <td>Habitación CERCA del Metro Copilco y CU\\nCoyoa...</td>\n",
       "    </tr>\n",
       "    <tr>\n",
       "      <th>15</th>\n",
       "      <td>Departamento amueblado en renta vazquez de mel...</td>\n",
       "    </tr>\n",
       "    <tr>\n",
       "      <th>16</th>\n",
       "      <td>Renta departamento, servicios incluidos, 2 caj...</td>\n",
       "    </tr>\n",
       "    <tr>\n",
       "      <th>17</th>\n",
       "      <td>Acogedor departamento\\nÁlvaro Obregón, Ciudad ...</td>\n",
       "    </tr>\n",
       "    <tr>\n",
       "      <th>18</th>\n",
       "      <td>Se renta comoda recamara cerca de pemex, cfe, ...</td>\n",
       "    </tr>\n",
       "    <tr>\n",
       "      <th>19</th>\n",
       "      <td>Depto. Planta baja 1recámara col. Postal\\nBeni...</td>\n",
       "    </tr>\n",
       "    <tr>\n",
       "      <th>20</th>\n",
       "      <td>Renta departamento lomas de chapultepec\\nMigue...</td>\n",
       "    </tr>\n",
       "    <tr>\n",
       "      <th>21</th>\n",
       "      <td>Como Depa En Presidentes Ejudales, Coyoacán\\nC...</td>\n",
       "    </tr>\n",
       "    <tr>\n",
       "      <th>22</th>\n",
       "      <td>Hermoso departamento en renta\\nBenito Juárez, ...</td>\n",
       "    </tr>\n",
       "    <tr>\n",
       "      <th>23</th>\n",
       "      <td>Rento increíble depto, 191 metros, Polanco\\nMi...</td>\n",
       "    </tr>\n",
       "    <tr>\n",
       "      <th>24</th>\n",
       "      <td>Bonito departamento de 2 recamaras\\nBenito Juá...</td>\n",
       "    </tr>\n",
       "    <tr>\n",
       "      <th>25</th>\n",
       "      <td>Excelente depa roma sur ubicadisimo\\nCuauhtémo...</td>\n",
       "    </tr>\n",
       "    <tr>\n",
       "      <th>26</th>\n",
       "      <td>Lindo ph en plaza carso\\nMiguel Hidalgo, Ciuda...</td>\n",
       "    </tr>\n",
       "    <tr>\n",
       "      <th>27</th>\n",
       "      <td>Renta bonito departamento planta baja\\nIztapal...</td>\n",
       "    </tr>\n",
       "    <tr>\n",
       "      <th>28</th>\n",
       "      <td>Mixcoac departamento semi nuevo, 79m2, cerca d...</td>\n",
       "    </tr>\n",
       "  </tbody>\n",
       "</table>\n",
       "</div>"
      ],
      "text/plain": [
       "                                                    0\n",
       "0   Una Recamara\\nMiguel Hidalgo, Ciudad de México...\n",
       "1   Edificio antiguo. 3 recamaras\\nBenito Juárez, ...\n",
       "2   Departamento · 320m² Polanco\\nMiguel Hidalgo, ...\n",
       "3   Se renta departamento 2 recamaras\\nBenito Juár...\n",
       "4   Departamento - Azcapotzalco\\nAzcapotzalco, Ciu...\n",
       "5   Precioso depa en renta city towers green 3 rec...\n",
       "6   Departamento lujoso dos garages\\nÁlvaro Obregó...\n",
       "7   Depa amueblado remodelado a 15 minutos de Pola...\n",
       "8   Depa en renta con rof garden enorme\\nBenito Ju...\n",
       "9   Departamento súper ubicado cerca de c.u\\nCoyoa...\n",
       "10  Rento espectacular depa en Barranca del Muerto...\n",
       "11  Rento a 10 minutos de Polanco\\nMiguel Hidalgo,...\n",
       "12  Narvarte Oriente cerca recamaras terraza ilumi...\n",
       "13  Bahia de san hipolito 43 anzures frente a Peme...\n",
       "14  Habitación CERCA del Metro Copilco y CU\\nCoyoa...\n",
       "15  Departamento amueblado en renta vazquez de mel...\n",
       "16  Renta departamento, servicios incluidos, 2 caj...\n",
       "17  Acogedor departamento\\nÁlvaro Obregón, Ciudad ...\n",
       "18  Se renta comoda recamara cerca de pemex, cfe, ...\n",
       "19  Depto. Planta baja 1recámara col. Postal\\nBeni...\n",
       "20  Renta departamento lomas de chapultepec\\nMigue...\n",
       "21  Como Depa En Presidentes Ejudales, Coyoacán\\nC...\n",
       "22  Hermoso departamento en renta\\nBenito Juárez, ...\n",
       "23  Rento increíble depto, 191 metros, Polanco\\nMi...\n",
       "24  Bonito departamento de 2 recamaras\\nBenito Juá...\n",
       "25  Excelente depa roma sur ubicadisimo\\nCuauhtémo...\n",
       "26  Lindo ph en plaza carso\\nMiguel Hidalgo, Ciuda...\n",
       "27  Renta bonito departamento planta baja\\nIztapal...\n",
       "28  Mixcoac departamento semi nuevo, 79m2, cerca d..."
      ]
     },
     "execution_count": 109,
     "metadata": {},
     "output_type": "execute_result"
    }
   ],
   "source": [
    "import pandas as pd\n",
    "renta_df = pd.DataFrame(adress)\n",
    "renta_df"
   ]
  },
  {
   "cell_type": "code",
   "execution_count": 32,
   "metadata": {},
   "outputs": [
    {
     "data": {
      "text/plain": [
       "'                                                    0\\n0   Una Recamara\\\\nMiguel Hidalgo, Ciudad de México...\\n1   Edificio antiguo. 3 recamaras\\\\nBenito Juárez, ...\\n2   Departamento · 320m² Polanco\\\\nMiguel Hidalgo, ...\\n3   Se renta departamento 2 recamaras\\\\nBenito Juár...\\n4   Departamento - Azcapotzalco\\\\nAzcapotzalco, Ciu...\\n5   Precioso depa en renta city towers green 3 rec...\\n6   Departamento lujoso dos garages\\\\nÁlvaro Obregó...\\n7   Depa amueblado remodelado a 15 minutos de Pola...\\n8   Depa en renta con rof garden enorme\\\\nBenito Ju...\\n9   Departamento súper ubicado cerca de c.u\\\\nCoyoa...\\n10  Rento espectacular depa en Barranca del Muerto...\\n11  Rento a 10 minutos de Polanco\\\\nMiguel Hidalgo,...\\n12  Narvarte Oriente cerca recamaras terraza ilumi...\\n13  Bahia de san hipolito 43 anzures frente a Peme...\\n14  Habitación CERCA del Metro Copilco y CU\\\\nCoyoa...\\n15  Departamento amueblado en renta vazquez de mel...\\n16  Renta departamento, servicios incluidos, 2 caj...\\n17  Acogedor departamento\\\\nÁlvaro Obregón, Ciudad ...\\n18  Se renta comoda recamara cerca de pemex, cfe, ...\\n19  Depto. Planta baja 1recámara col. Postal\\\\nBeni...\\n20  Renta departamento lomas de chapultepec\\\\nMigue...\\n21  Como Depa En Presidentes Ejudales, Coyoacán\\\\nC...\\n22  Hermoso departamento en renta\\\\nBenito Juárez, ...\\n23  Rento increíble depto, 191 metros, Polanco\\\\nMi...\\n24  Bonito departamento de 2 recamaras\\\\nBenito Juá...\\n25  Excelente depa roma sur ubicadisimo\\\\nCuauhtémo...\\n26  Lindo ph en plaza carso\\\\nMiguel Hidalgo, Ciuda...\\n27  Renta bonito departamento planta baja\\\\nIztapal...\\n28  Mixcoac departamento semi nuevo, 79m2, cerca d...'"
      ]
     },
     "execution_count": 32,
     "metadata": {},
     "output_type": "execute_result"
    }
   ],
   "source": [
    "rent = str(renta_df)\n",
    "rent"
   ]
  },
  {
   "cell_type": "code",
   "execution_count": 63,
   "metadata": {},
   "outputs": [
    {
     "data": {
      "text/plain": [
       "'                                                    0   Una Recamara\\\\nMiguel Hidalgo, Ciudad de México...   Edificio antiguo. 3 recamaras\\\\nBenito Juárez, ...   Departamento · 320m² Polanco\\\\nMiguel Hidalgo, ...   Se renta departamento 2 recamaras\\\\nBenito Juár...   Departamento - Azcapotzalco\\\\nAzcapotzalco, Ciu...   Precioso depa en renta city towers green 3 rec...   Departamento lujoso dos garages\\\\nÁlvaro Obregó...   Depa amueblado remodelado a 15 minutos de Pola...   Depa en renta con rof garden enorme\\\\nBenito Ju...   Departamento súper ubicado cerca de c.u\\\\nCoyoa...  Rento espectacular depa en Barranca del Muerto...  Rento a 10 minutos de Polanco\\\\nMiguel Hidalgo,...  Narvarte Oriente cerca recamaras terraza ilumi...  Bahia de san hipolito 43 anzures frente a Peme...  Habitación CERCA del Metro Copilco y CU\\\\nCoyoa...  Departamento amueblado en renta vazquez de mel...  Renta departamento, servicios incluidos, 2 caj...  Acogedor departamento\\\\nÁlvaro Obregón, Ciudad ...  Se renta comoda recamara cerca de pemex, cfe, ...  Depto. Planta baja 1recámara col. Postal\\\\nBeni...  Renta departamento lomas de chapultepec\\\\nMigue...  Como Depa En Presidentes Ejudales, Coyoacán\\\\nC...  Hermoso departamento en renta\\\\nBenito Juárez, ...  Rento increíble depto, 191 metros, Polanco\\\\nMi...  Bonito departamento de 2 recamaras\\\\nBenito Juá...  Excelente depa roma sur ubicadisimo\\\\nCuauhtémo...  Lindo ph en plaza carso\\\\nMiguel Hidalgo, Ciuda...  Renta bonito departamento planta baja\\\\nIztapal...  Mixcoac departamento semi nuevo, 79m2, cerca d...'"
      ]
     },
     "execution_count": 63,
     "metadata": {},
     "output_type": "execute_result"
    }
   ],
   "source": [
    "import re\n",
    "\n",
    "clean = re.sub(r'\\n\\d*','',rent)\n",
    "clean"
   ]
  },
  {
   "cell_type": "code",
   "execution_count": 106,
   "metadata": {},
   "outputs": [
    {
     "data": {
      "text/plain": [
       "['                                                    0   Una Recamara',\n",
       " 'nMiguel Hidalgo, Ciudad de México...   Edificio antiguo. 3 recamaras',\n",
       " 'nBenito Juárez, ...   Departamento · 320m² Polanco',\n",
       " 'nMiguel Hidalgo, ...   Se renta departamento 2 recamaras',\n",
       " 'nBenito Juár...   Departamento - Azcapotzalco',\n",
       " 'nAzcapotzalco, Ciu...   Precioso depa en renta city towers green 3 rec...   Departamento lujoso dos garages',\n",
       " 'nÁlvaro Obregó...   Depa amueblado remodelado a 15 minutos de Pola...   Depa en renta con rof garden enorme',\n",
       " 'nBenito Ju...   Departamento súper ubicado cerca de c.u',\n",
       " 'nCoyoa...  Rento espectacular depa en Barranca del Muerto...  Rento a 10 minutos de Polanco',\n",
       " 'nMiguel Hidalgo,...  Narvarte Oriente cerca recamaras terraza ilumi...  Bahia de san hipolito 43 anzures frente a Peme...  Habitación CERCA del Metro Copilco y CU',\n",
       " 'nCoyoa...  Departamento amueblado en renta vazquez de mel...  Renta departamento, servicios incluidos, 2 caj...  Acogedor departamento',\n",
       " 'nÁlvaro Obregón, Ciudad ...  Se renta comoda recamara cerca de pemex, cfe, ...  Depto. Planta baja 1recámara col. Postal',\n",
       " 'nBeni...  Renta departamento lomas de chapultepec',\n",
       " 'nMigue...  Como Depa En Presidentes Ejudales, Coyoacán',\n",
       " 'nC...  Hermoso departamento en renta',\n",
       " 'nBenito Juárez, ...  Rento increíble depto, 191 metros, Polanco',\n",
       " 'nMi...  Bonito departamento de 2 recamaras',\n",
       " 'nBenito Juá...  Excelente depa roma sur ubicadisimo',\n",
       " 'nCuauhtémo...  Lindo ph en plaza carso',\n",
       " 'nMiguel Hidalgo, Ciuda...  Renta bonito departamento planta baja',\n",
       " 'nIztapal...  Mixcoac departamento semi nuevo, 79m2, cerca d...']"
      ]
     },
     "execution_count": 106,
     "metadata": {},
     "output_type": "execute_result"
    }
   ],
   "source": [
    "clean1 = clean.replace('\\\\n','')\n",
    "clean_s = clean.split('\\\\')\n",
    "clean_s"
   ]
  },
  {
   "cell_type": "code",
   "execution_count": null,
   "metadata": {},
   "outputs": [],
   "source": []
  },
  {
   "cell_type": "code",
   "execution_count": null,
   "metadata": {},
   "outputs": [],
   "source": []
  },
  {
   "cell_type": "code",
   "execution_count": 105,
   "metadata": {},
   "outputs": [
    {
     "data": {
      "text/html": [
       "<div>\n",
       "<style scoped>\n",
       "    .dataframe tbody tr th:only-of-type {\n",
       "        vertical-align: middle;\n",
       "    }\n",
       "\n",
       "    .dataframe tbody tr th {\n",
       "        vertical-align: top;\n",
       "    }\n",
       "\n",
       "    .dataframe thead th {\n",
       "        text-align: right;\n",
       "    }\n",
       "</style>\n",
       "<table border=\"1\" class=\"dataframe\">\n",
       "  <thead>\n",
       "    <tr style=\"text-align: right;\">\n",
       "      <th></th>\n",
       "      <th>0</th>\n",
       "    </tr>\n",
       "  </thead>\n",
       "  <tbody>\n",
       "    <tr>\n",
       "      <th>0</th>\n",
       "      <td>...</td>\n",
       "    </tr>\n",
       "  </tbody>\n",
       "</table>\n",
       "</div>"
      ],
      "text/plain": [
       "                                                   0\n",
       "0                                                ..."
      ]
     },
     "execution_count": 105,
     "metadata": {},
     "output_type": "execute_result"
    }
   ],
   "source": [
    "renta_df1 = pd.DataFrame(clean_s)\n",
    "renta_df1"
   ]
  }
 ],
 "metadata": {
  "kernelspec": {
   "display_name": "Python 3",
   "language": "python",
   "name": "python3"
  },
  "language_info": {
   "codemirror_mode": {
    "name": "ipython",
    "version": 3
   },
   "file_extension": ".py",
   "mimetype": "text/x-python",
   "name": "python",
   "nbconvert_exporter": "python",
   "pygments_lexer": "ipython3",
   "version": "3.7.4"
  }
 },
 "nbformat": 4,
 "nbformat_minor": 2
}
