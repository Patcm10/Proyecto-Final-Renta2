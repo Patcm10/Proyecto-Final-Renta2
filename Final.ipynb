{
 "cells": [
  {
   "cell_type": "code",
   "execution_count": 4,
   "metadata": {},
   "outputs": [],
   "source": [
    "import pandas as pd\n",
    "import os\n",
    "from dotenv import load_dotenv\n",
    "import googlemaps\n",
    "from geopy import distance\n",
    "import folium"
   ]
  },
  {
   "cell_type": "code",
   "execution_count": 5,
   "metadata": {},
   "outputs": [],
   "source": [
    "data = pd.read_csv('lista_final.csv',sep='|')"
   ]
  },
  {
   "cell_type": "code",
   "execution_count": 5,
   "metadata": {},
   "outputs": [
    {
     "data": {
      "text/plain": [
       "True"
      ]
     },
     "execution_count": 5,
     "metadata": {},
     "output_type": "execute_result"
    }
   ],
   "source": [
    "load_dotenv()"
   ]
  },
  {
   "cell_type": "code",
   "execution_count": 6,
   "metadata": {},
   "outputs": [],
   "source": [
    "API_key=os.getenv('API')"
   ]
  },
  {
   "cell_type": "code",
   "execution_count": 7,
   "metadata": {},
   "outputs": [],
   "source": [
    "gmaps_key = googlemaps.Client(key=API_key)"
   ]
  },
  {
   "cell_type": "code",
   "execution_count": 8,
   "metadata": {},
   "outputs": [],
   "source": [
    "def get_coord(string):\n",
    "    geocode_result = gmaps_key.geocode(string)\n",
    "    try:\n",
    "        lat = geocode_result[0]['geometry']['location']['lat']\n",
    "        lon = geocode_result[0]['geometry']['location']['lng']\n",
    "        return [lat,lon]\n",
    "    except:\n",
    "        return [None,None]"
   ]
  },
  {
   "cell_type": "code",
   "execution_count": 12,
   "metadata": {},
   "outputs": [],
   "source": [
    "def get_coord(string):\n",
    "    geocode_result = data['Distance']\n",
    "    #try:\n",
    "        #lat = geocode_result[0]['geometry']['location']['lat']\n",
    "        #lon = geocode_result[0]['geometry']['location']['lng']\n",
    "        #return [lat,lon]\n",
    "    #except:\n",
    "        #return [None,None]"
   ]
  },
  {
   "cell_type": "code",
   "execution_count": 10,
   "metadata": {},
   "outputs": [],
   "source": [
    "data['Rango precios'] = data['Price(MX$)']"
   ]
  },
  {
   "cell_type": "code",
   "execution_count": 11,
   "metadata": {},
   "outputs": [
    {
     "name": "stdout",
     "output_type": "stream",
     "text": [
      "<class 'pandas.core.frame.DataFrame'>\n",
      "RangeIndex: 588 entries, 0 to 587\n",
      "Data columns (total 9 columns):\n",
      "Address          588 non-null object\n",
      "Price(MX$)       588 non-null int64\n",
      "Bedrooms         588 non-null int64\n",
      "Bathrooms        579 non-null float64\n",
      "Size(m2)         588 non-null object\n",
      "Latitud          588 non-null float64\n",
      "Longitud         588 non-null float64\n",
      "Coordinates      588 non-null object\n",
      "Rango precios    588 non-null int64\n",
      "dtypes: float64(3), int64(3), object(3)\n",
      "memory usage: 41.4+ KB\n"
     ]
    }
   ],
   "source": [
    "data.info()"
   ]
  },
  {
   "cell_type": "code",
   "execution_count": 13,
   "metadata": {},
   "outputs": [],
   "source": [
    "def rentas():\n",
    "    rango_precios = {'1':'5000-10000','2':'10000-15000','3':'15000-20000','4':'20000-25000','5':'25000-30000','6':'30000-35000','7':'35000-40000','8':'40000-45000','9':'45000-50000','10':'>50000'}\n",
    "    dummy = data.copy()\n",
    "    \n",
    "    indice_precios = rango_precios[input(f'Selecciona un rango de precios: {str(rango_precios)}')].split('-')\n",
    "    \n",
    "    dummy = dummy[dummy['Price(MX$)'].between(int(indice_precios[0]), int(indice_precios[1]))]\n",
    "    \n",
    "    indice_hab = int(input((f'Selecciona número de habitantes: ')))\n",
    "    dummy = dummy[dummy['Bedrooms'] == indice_hab]\n",
    "\n",
    "    coord_trab = input(f'Cual es tu ubicacion? : ')\n",
    "\n",
    "    ubicacion = get_coord(coord_trab)\n",
    "    dummy['Distance'] = dummy['Coordinates'].str.split(',').apply(\\\n",
    "                        lambda x:get_distance(x, ubicacion))\n",
    "    \n",
    "    dummy = dummy[dummy['Distance']<=5]\n",
    "    \n",
    "    return dummy, ubicacion"
   ]
  },
  {
   "cell_type": "code",
   "execution_count": 14,
   "metadata": {},
   "outputs": [
    {
     "name": "stdout",
     "output_type": "stream",
     "text": [
      "Selecciona un rango de precios: {'1': '5000-10000', '2': '10000-15000', '3': '15000-20000', '4': '20000-25000', '5': '25000-30000', '6': '30000-35000', '7': '35000-40000', '8': '40000-45000', '9': '45000-50000', '10': '>50000'}1\n",
      "Selecciona número de habitantes: 3\n",
      "Cual es tu ubicacion? : tonala 10\n"
     ]
    },
    {
     "ename": "KeyError",
     "evalue": "'Distance'",
     "output_type": "error",
     "traceback": [
      "\u001b[0;31m---------------------------------------------------------------------------\u001b[0m",
      "\u001b[0;31mKeyError\u001b[0m                                  Traceback (most recent call last)",
      "\u001b[0;32m/usr/local/lib/python3.7/site-packages/pandas/core/indexes/base.py\u001b[0m in \u001b[0;36mget_loc\u001b[0;34m(self, key, method, tolerance)\u001b[0m\n\u001b[1;32m   2656\u001b[0m             \u001b[0;32mtry\u001b[0m\u001b[0;34m:\u001b[0m\u001b[0;34m\u001b[0m\u001b[0;34m\u001b[0m\u001b[0m\n\u001b[0;32m-> 2657\u001b[0;31m                 \u001b[0;32mreturn\u001b[0m \u001b[0mself\u001b[0m\u001b[0;34m.\u001b[0m\u001b[0m_engine\u001b[0m\u001b[0;34m.\u001b[0m\u001b[0mget_loc\u001b[0m\u001b[0;34m(\u001b[0m\u001b[0mkey\u001b[0m\u001b[0;34m)\u001b[0m\u001b[0;34m\u001b[0m\u001b[0;34m\u001b[0m\u001b[0m\n\u001b[0m\u001b[1;32m   2658\u001b[0m             \u001b[0;32mexcept\u001b[0m \u001b[0mKeyError\u001b[0m\u001b[0;34m:\u001b[0m\u001b[0;34m\u001b[0m\u001b[0;34m\u001b[0m\u001b[0m\n",
      "\u001b[0;32mpandas/_libs/index.pyx\u001b[0m in \u001b[0;36mpandas._libs.index.IndexEngine.get_loc\u001b[0;34m()\u001b[0m\n",
      "\u001b[0;32mpandas/_libs/index.pyx\u001b[0m in \u001b[0;36mpandas._libs.index.IndexEngine.get_loc\u001b[0;34m()\u001b[0m\n",
      "\u001b[0;32mpandas/_libs/hashtable_class_helper.pxi\u001b[0m in \u001b[0;36mpandas._libs.hashtable.PyObjectHashTable.get_item\u001b[0;34m()\u001b[0m\n",
      "\u001b[0;32mpandas/_libs/hashtable_class_helper.pxi\u001b[0m in \u001b[0;36mpandas._libs.hashtable.PyObjectHashTable.get_item\u001b[0;34m()\u001b[0m\n",
      "\u001b[0;31mKeyError\u001b[0m: 'Distance'",
      "\nDuring handling of the above exception, another exception occurred:\n",
      "\u001b[0;31mKeyError\u001b[0m                                  Traceback (most recent call last)",
      "\u001b[0;32m<ipython-input-14-c301472ce06e>\u001b[0m in \u001b[0;36m<module>\u001b[0;34m\u001b[0m\n\u001b[0;32m----> 1\u001b[0;31m \u001b[0mtest\u001b[0m\u001b[0;34m,\u001b[0m \u001b[0mubi\u001b[0m \u001b[0;34m=\u001b[0m \u001b[0mrentas\u001b[0m\u001b[0;34m(\u001b[0m\u001b[0;34m)\u001b[0m\u001b[0;34m\u001b[0m\u001b[0;34m\u001b[0m\u001b[0m\n\u001b[0m",
      "\u001b[0;32m<ipython-input-13-99158c86453e>\u001b[0m in \u001b[0;36mrentas\u001b[0;34m()\u001b[0m\n\u001b[1;32m     12\u001b[0m     \u001b[0mcoord_trab\u001b[0m \u001b[0;34m=\u001b[0m \u001b[0minput\u001b[0m\u001b[0;34m(\u001b[0m\u001b[0;34mf'Cual es tu ubicacion? : '\u001b[0m\u001b[0;34m)\u001b[0m\u001b[0;34m\u001b[0m\u001b[0;34m\u001b[0m\u001b[0m\n\u001b[1;32m     13\u001b[0m \u001b[0;34m\u001b[0m\u001b[0m\n\u001b[0;32m---> 14\u001b[0;31m     \u001b[0mubicacion\u001b[0m \u001b[0;34m=\u001b[0m \u001b[0mget_coord\u001b[0m\u001b[0;34m(\u001b[0m\u001b[0mcoord_trab\u001b[0m\u001b[0;34m)\u001b[0m\u001b[0;34m\u001b[0m\u001b[0;34m\u001b[0m\u001b[0m\n\u001b[0m\u001b[1;32m     15\u001b[0m     dummy['Distance'] = dummy['Coordinates'].str.split(',').apply(\\\n\u001b[1;32m     16\u001b[0m                         lambda x:get_distance(x, ubicacion))\n",
      "\u001b[0;32m<ipython-input-12-9c1936730a60>\u001b[0m in \u001b[0;36mget_coord\u001b[0;34m(string)\u001b[0m\n\u001b[1;32m      1\u001b[0m \u001b[0;32mdef\u001b[0m \u001b[0mget_coord\u001b[0m\u001b[0;34m(\u001b[0m\u001b[0mstring\u001b[0m\u001b[0;34m)\u001b[0m\u001b[0;34m:\u001b[0m\u001b[0;34m\u001b[0m\u001b[0;34m\u001b[0m\u001b[0m\n\u001b[0;32m----> 2\u001b[0;31m     \u001b[0mgeocode_result\u001b[0m \u001b[0;34m=\u001b[0m \u001b[0mdata\u001b[0m\u001b[0;34m[\u001b[0m\u001b[0;34m'Distance'\u001b[0m\u001b[0;34m]\u001b[0m\u001b[0;34m\u001b[0m\u001b[0;34m\u001b[0m\u001b[0m\n\u001b[0m\u001b[1;32m      3\u001b[0m     \u001b[0;31m#try:\u001b[0m\u001b[0;34m\u001b[0m\u001b[0;34m\u001b[0m\u001b[0;34m\u001b[0m\u001b[0m\n\u001b[1;32m      4\u001b[0m         \u001b[0;31m#lat = geocode_result[0]['geometry']['location']['lat']\u001b[0m\u001b[0;34m\u001b[0m\u001b[0;34m\u001b[0m\u001b[0;34m\u001b[0m\u001b[0m\n\u001b[1;32m      5\u001b[0m         \u001b[0;31m#lon = geocode_result[0]['geometry']['location']['lng']\u001b[0m\u001b[0;34m\u001b[0m\u001b[0;34m\u001b[0m\u001b[0;34m\u001b[0m\u001b[0m\n",
      "\u001b[0;32m/usr/local/lib/python3.7/site-packages/pandas/core/frame.py\u001b[0m in \u001b[0;36m__getitem__\u001b[0;34m(self, key)\u001b[0m\n\u001b[1;32m   2925\u001b[0m             \u001b[0;32mif\u001b[0m \u001b[0mself\u001b[0m\u001b[0;34m.\u001b[0m\u001b[0mcolumns\u001b[0m\u001b[0;34m.\u001b[0m\u001b[0mnlevels\u001b[0m \u001b[0;34m>\u001b[0m \u001b[0;36m1\u001b[0m\u001b[0;34m:\u001b[0m\u001b[0;34m\u001b[0m\u001b[0;34m\u001b[0m\u001b[0m\n\u001b[1;32m   2926\u001b[0m                 \u001b[0;32mreturn\u001b[0m \u001b[0mself\u001b[0m\u001b[0;34m.\u001b[0m\u001b[0m_getitem_multilevel\u001b[0m\u001b[0;34m(\u001b[0m\u001b[0mkey\u001b[0m\u001b[0;34m)\u001b[0m\u001b[0;34m\u001b[0m\u001b[0;34m\u001b[0m\u001b[0m\n\u001b[0;32m-> 2927\u001b[0;31m             \u001b[0mindexer\u001b[0m \u001b[0;34m=\u001b[0m \u001b[0mself\u001b[0m\u001b[0;34m.\u001b[0m\u001b[0mcolumns\u001b[0m\u001b[0;34m.\u001b[0m\u001b[0mget_loc\u001b[0m\u001b[0;34m(\u001b[0m\u001b[0mkey\u001b[0m\u001b[0;34m)\u001b[0m\u001b[0;34m\u001b[0m\u001b[0;34m\u001b[0m\u001b[0m\n\u001b[0m\u001b[1;32m   2928\u001b[0m             \u001b[0;32mif\u001b[0m \u001b[0mis_integer\u001b[0m\u001b[0;34m(\u001b[0m\u001b[0mindexer\u001b[0m\u001b[0;34m)\u001b[0m\u001b[0;34m:\u001b[0m\u001b[0;34m\u001b[0m\u001b[0;34m\u001b[0m\u001b[0m\n\u001b[1;32m   2929\u001b[0m                 \u001b[0mindexer\u001b[0m \u001b[0;34m=\u001b[0m \u001b[0;34m[\u001b[0m\u001b[0mindexer\u001b[0m\u001b[0;34m]\u001b[0m\u001b[0;34m\u001b[0m\u001b[0;34m\u001b[0m\u001b[0m\n",
      "\u001b[0;32m/usr/local/lib/python3.7/site-packages/pandas/core/indexes/base.py\u001b[0m in \u001b[0;36mget_loc\u001b[0;34m(self, key, method, tolerance)\u001b[0m\n\u001b[1;32m   2657\u001b[0m                 \u001b[0;32mreturn\u001b[0m \u001b[0mself\u001b[0m\u001b[0;34m.\u001b[0m\u001b[0m_engine\u001b[0m\u001b[0;34m.\u001b[0m\u001b[0mget_loc\u001b[0m\u001b[0;34m(\u001b[0m\u001b[0mkey\u001b[0m\u001b[0;34m)\u001b[0m\u001b[0;34m\u001b[0m\u001b[0;34m\u001b[0m\u001b[0m\n\u001b[1;32m   2658\u001b[0m             \u001b[0;32mexcept\u001b[0m \u001b[0mKeyError\u001b[0m\u001b[0;34m:\u001b[0m\u001b[0;34m\u001b[0m\u001b[0;34m\u001b[0m\u001b[0m\n\u001b[0;32m-> 2659\u001b[0;31m                 \u001b[0;32mreturn\u001b[0m \u001b[0mself\u001b[0m\u001b[0;34m.\u001b[0m\u001b[0m_engine\u001b[0m\u001b[0;34m.\u001b[0m\u001b[0mget_loc\u001b[0m\u001b[0;34m(\u001b[0m\u001b[0mself\u001b[0m\u001b[0;34m.\u001b[0m\u001b[0m_maybe_cast_indexer\u001b[0m\u001b[0;34m(\u001b[0m\u001b[0mkey\u001b[0m\u001b[0;34m)\u001b[0m\u001b[0;34m)\u001b[0m\u001b[0;34m\u001b[0m\u001b[0;34m\u001b[0m\u001b[0m\n\u001b[0m\u001b[1;32m   2660\u001b[0m         \u001b[0mindexer\u001b[0m \u001b[0;34m=\u001b[0m \u001b[0mself\u001b[0m\u001b[0;34m.\u001b[0m\u001b[0mget_indexer\u001b[0m\u001b[0;34m(\u001b[0m\u001b[0;34m[\u001b[0m\u001b[0mkey\u001b[0m\u001b[0;34m]\u001b[0m\u001b[0;34m,\u001b[0m \u001b[0mmethod\u001b[0m\u001b[0;34m=\u001b[0m\u001b[0mmethod\u001b[0m\u001b[0;34m,\u001b[0m \u001b[0mtolerance\u001b[0m\u001b[0;34m=\u001b[0m\u001b[0mtolerance\u001b[0m\u001b[0;34m)\u001b[0m\u001b[0;34m\u001b[0m\u001b[0;34m\u001b[0m\u001b[0m\n\u001b[1;32m   2661\u001b[0m         \u001b[0;32mif\u001b[0m \u001b[0mindexer\u001b[0m\u001b[0;34m.\u001b[0m\u001b[0mndim\u001b[0m \u001b[0;34m>\u001b[0m \u001b[0;36m1\u001b[0m \u001b[0;32mor\u001b[0m \u001b[0mindexer\u001b[0m\u001b[0;34m.\u001b[0m\u001b[0msize\u001b[0m \u001b[0;34m>\u001b[0m \u001b[0;36m1\u001b[0m\u001b[0;34m:\u001b[0m\u001b[0;34m\u001b[0m\u001b[0;34m\u001b[0m\u001b[0m\n",
      "\u001b[0;32mpandas/_libs/index.pyx\u001b[0m in \u001b[0;36mpandas._libs.index.IndexEngine.get_loc\u001b[0;34m()\u001b[0m\n",
      "\u001b[0;32mpandas/_libs/index.pyx\u001b[0m in \u001b[0;36mpandas._libs.index.IndexEngine.get_loc\u001b[0;34m()\u001b[0m\n",
      "\u001b[0;32mpandas/_libs/hashtable_class_helper.pxi\u001b[0m in \u001b[0;36mpandas._libs.hashtable.PyObjectHashTable.get_item\u001b[0;34m()\u001b[0m\n",
      "\u001b[0;32mpandas/_libs/hashtable_class_helper.pxi\u001b[0m in \u001b[0;36mpandas._libs.hashtable.PyObjectHashTable.get_item\u001b[0;34m()\u001b[0m\n",
      "\u001b[0;31mKeyError\u001b[0m: 'Distance'"
     ]
    }
   ],
   "source": [
    "test, ubi = rentas()"
   ]
  },
  {
   "cell_type": "code",
   "execution_count": 243,
   "metadata": {},
   "outputs": [
    {
     "data": {
      "text/plain": [
       "[19.4212752, -99.1631294]"
      ]
     },
     "execution_count": 243,
     "metadata": {},
     "output_type": "execute_result"
    }
   ],
   "source": [
    "ubi"
   ]
  },
  {
   "cell_type": "code",
   "execution_count": 242,
   "metadata": {},
   "outputs": [
    {
     "data": {
      "text/plain": [
       "38       Centro (área 1), Cuauhtémoc, Distrito Federa...\n",
       "45       Centro (área 1), Cuauhtémoc, Distrito Federa...\n",
       "52       Centro (área 1), Cuauhtémoc, Distrito Federa...\n",
       "60       Centro (área 1), Cuauhtémoc, Distrito Federa...\n",
       "67       Centro (área 1), Cuauhtémoc, Distrito Federa...\n",
       "74       Centro (área 1), Cuauhtémoc, Distrito Federa...\n",
       "84       Centro (área 1), Cuauhtémoc, Distrito Federa...\n",
       "137      Golfo De San Jorge 37 Tacuba Miguel Hidalgo,...\n",
       "152      Guanábana 10, Nueva Santa Maria, Azcapotzalc...\n",
       "156      Lago Zirahuen 98, Colonia Anahuac I Sección,...\n",
       "186      R.salido 166, Independencia, Benito Juárez, ...\n",
       "290      Rafael Solana 5, Independencia, Benito Juáre...\n",
       "296      Thomas A Edison 139, San Rafael, Cuauhtémoc,...\n",
       "310      11 De Abril 177 303 A, Ciudad De México, Dis...\n",
       "338      Peral 26, Santa Maria La Ribera, Cuauhtémoc,...\n",
       "388      Av Cuauhtemoc 514, Narvarte, Benito Juárez, ...\n",
       "481      Lago Como 128, 504, Miguel Hidalgo, Distrito...\n",
       "537      Avenida 2 200, San Pedro De Los Pinos, Álvar...\n",
       "541      Avenida Parque Lira 141, 12, San Miguel Chap...\n",
       "557      Parque Lira 0, San Miguel Chapultepec, Migue...\n",
       "575      Concepcion Beistigui 616, 201, Del Valle, Be...\n",
       "Name: Address, dtype: object"
      ]
     },
     "execution_count": 242,
     "metadata": {},
     "output_type": "execute_result"
    }
   ],
   "source": [
    "test['Address']"
   ]
  },
  {
   "cell_type": "code",
   "execution_count": 159,
   "metadata": {},
   "outputs": [
    {
     "name": "stdout",
     "output_type": "stream",
     "text": [
      "Selecciona un rango de precios: {'1': '5000-10000', '2': '10000-15000', '3': '15000-20000', '4': '20000-25000', '5': '25000-30000', '6': '30000-35000', '7': '35000-40000', '8': '40000-45000', '9': '45000-50000', '10': '>50000'}1\n",
      "Selecciona número de habitantes: {'1': '1', '2': '2', '3': '3', '4': '4', '5': '>=5'}3\n",
      "Selecciona la alcaldía en donde trabajes: {'1': 'Álvaro Obregón', '2': 'Azcapotzalco', '3': 'Benito Juárez', '4': 'Coyoacán', '5': 'Cuajimalpa', '6': 'Cuauhtémoc', '7': 'Gustavo A.Madero', '8': 'Iztacalco', '9': 'Iztapalapa', '10': 'Magdalena Contreras', '11': 'Miguel Hidalgo', '12': 'Milpa Alta', '13': 'Tláhuac', '14': 'Tlalpan', '15': 'Venustiano Carranza', '16': 'Xochimilco'}tonala 10\n",
      "Selecciona un hobby: {'1': 'Ejercio', '2': 'Pintar', '3': 'Leer', '4': 'Casinos', '5': 'Museos', '6': 'Comer', '7': 'Cine', '8': 'Bar'}2\n",
      "{'rango': '5000-10000', 'Número Habitantes': '3', 'Lugar de trabajo': None, 'Hobby': 'Pintar'}\n"
     ]
    }
   ],
   "source": [
    "depas = rentas()"
   ]
  },
  {
   "cell_type": "code",
   "execution_count": 203,
   "metadata": {},
   "outputs": [],
   "source": [
    "def get_distance(pointx, pointy):\n",
    "    return distance.distance(pointx,pointy)"
   ]
  },
  {
   "cell_type": "code",
   "execution_count": 204,
   "metadata": {},
   "outputs": [
    {
     "data": {
      "text/plain": [
       "Distance(140.44294774014736)"
      ]
     },
     "execution_count": 204,
     "metadata": {},
     "output_type": "execute_result"
    }
   ],
   "source": [
    "get_distance([-39, 99], [-40, 98])"
   ]
  },
  {
   "cell_type": "code",
   "execution_count": 142,
   "metadata": {},
   "outputs": [],
   "source": [
    "import operator\n",
    "def get_rooms(coords,precio,rooms):\n",
    "        return distance.distance(coords,precio,rooms, depas['Lugar de trabajo'],depas['rango_precios'],depas['numero_habitantes'])"
   ]
  },
  {
   "cell_type": "code",
   "execution_count": null,
   "metadata": {},
   "outputs": [],
   "source": []
  },
  {
   "cell_type": "code",
   "execution_count": 193,
   "metadata": {},
   "outputs": [],
   "source": [
    "#Calcular coordenadas\n",
    "data['Distance'] = data['Coordinates'].apply(lambda x: get_distance(x.split(\",\")))"
   ]
  },
  {
   "cell_type": "code",
   "execution_count": 194,
   "metadata": {
    "scrolled": false
   },
   "outputs": [
    {
     "data": {
      "text/html": [
       "<div>\n",
       "<style scoped>\n",
       "    .dataframe tbody tr th:only-of-type {\n",
       "        vertical-align: middle;\n",
       "    }\n",
       "\n",
       "    .dataframe tbody tr th {\n",
       "        vertical-align: top;\n",
       "    }\n",
       "\n",
       "    .dataframe thead th {\n",
       "        text-align: right;\n",
       "    }\n",
       "</style>\n",
       "<table border=\"1\" class=\"dataframe\">\n",
       "  <thead>\n",
       "    <tr style=\"text-align: right;\">\n",
       "      <th></th>\n",
       "      <th>Address</th>\n",
       "      <th>Price(MX$)</th>\n",
       "      <th>Bedrooms</th>\n",
       "      <th>Bathrooms</th>\n",
       "      <th>Size(m2)</th>\n",
       "      <th>Latitud</th>\n",
       "      <th>Longitud</th>\n",
       "      <th>Coordinates</th>\n",
       "      <th>Distance</th>\n",
       "    </tr>\n",
       "  </thead>\n",
       "  <tbody>\n",
       "    <tr>\n",
       "      <th>146</th>\n",
       "      <td>Avenida San Miguel 40, Xalpa, Ciudad De México</td>\n",
       "      <td>8500</td>\n",
       "      <td>2</td>\n",
       "      <td>2.0</td>\n",
       "      <td>100</td>\n",
       "      <td>19.332842</td>\n",
       "      <td>-99.032084</td>\n",
       "      <td>19.332842000000003,-99.0320843</td>\n",
       "      <td>10965.546654626944 km</td>\n",
       "    </tr>\n",
       "    <tr>\n",
       "      <th>248</th>\n",
       "      <td>7 (periferico Oriental), Iztacalco, Distrito...</td>\n",
       "      <td>6000</td>\n",
       "      <td>2</td>\n",
       "      <td>1.0</td>\n",
       "      <td>45</td>\n",
       "      <td>19.397102</td>\n",
       "      <td>-99.058471</td>\n",
       "      <td>19.3971015,-99.0584708</td>\n",
       "      <td>10967.927781939256 km</td>\n",
       "    </tr>\n",
       "    <tr>\n",
       "      <th>583</th>\n",
       "      <td>Josafat F. Márquez 26, Colonial Iztapalapa, ...</td>\n",
       "      <td>7500</td>\n",
       "      <td>2</td>\n",
       "      <td>2.0</td>\n",
       "      <td>78</td>\n",
       "      <td>19.344689</td>\n",
       "      <td>-99.057305</td>\n",
       "      <td>19.3446888,-99.0573055</td>\n",
       "      <td>10968.12167274313 km</td>\n",
       "    </tr>\n",
       "    <tr>\n",
       "      <th>554</th>\n",
       "      <td>Calle 4 Num 308, Agrícola Pantitlán, Iztacalco</td>\n",
       "      <td>4500</td>\n",
       "      <td>2</td>\n",
       "      <td>1.0</td>\n",
       "      <td>60</td>\n",
       "      <td>19.415524</td>\n",
       "      <td>-99.062349</td>\n",
       "      <td>19.4155236,-99.0623488</td>\n",
       "      <td>10968.223156256057 km</td>\n",
       "    </tr>\n",
       "    <tr>\n",
       "      <th>516</th>\n",
       "      <td>Calle  3, Agrícola Pantitlán, Iztacalco</td>\n",
       "      <td>3500</td>\n",
       "      <td>1</td>\n",
       "      <td>1.0</td>\n",
       "      <td>35</td>\n",
       "      <td>19.413731</td>\n",
       "      <td>-99.064482</td>\n",
       "      <td>19.413731100000003,-99.0644816</td>\n",
       "      <td>10968.457667843133 km</td>\n",
       "    </tr>\n",
       "  </tbody>\n",
       "</table>\n",
       "</div>"
      ],
      "text/plain": [
       "                                               Address  Price(MX$)  Bedrooms  \\\n",
       "146     Avenida San Miguel 40, Xalpa, Ciudad De México        8500         2   \n",
       "248    7 (periferico Oriental), Iztacalco, Distrito...        6000         2   \n",
       "583    Josafat F. Márquez 26, Colonial Iztapalapa, ...        7500         2   \n",
       "554     Calle 4 Num 308, Agrícola Pantitlán, Iztacalco        4500         2   \n",
       "516            Calle  3, Agrícola Pantitlán, Iztacalco        3500         1   \n",
       "\n",
       "     Bathrooms Size(m2)    Latitud   Longitud                     Coordinates  \\\n",
       "146        2.0      100  19.332842 -99.032084  19.332842000000003,-99.0320843   \n",
       "248        1.0       45  19.397102 -99.058471          19.3971015,-99.0584708   \n",
       "583        2.0       78  19.344689 -99.057305          19.3446888,-99.0573055   \n",
       "554        1.0       60  19.415524 -99.062349          19.4155236,-99.0623488   \n",
       "516        1.0       35  19.413731 -99.064482  19.413731100000003,-99.0644816   \n",
       "\n",
       "                  Distance  \n",
       "146  10965.546654626944 km  \n",
       "248  10967.927781939256 km  \n",
       "583   10968.12167274313 km  \n",
       "554  10968.223156256057 km  \n",
       "516  10968.457667843133 km  "
      ]
     },
     "execution_count": 194,
     "metadata": {},
     "output_type": "execute_result"
    }
   ],
   "source": [
    "data.sort_values(by='Distance').head()"
   ]
  },
  {
   "cell_type": "code",
   "execution_count": 134,
   "metadata": {},
   "outputs": [],
   "source": [
    "#data.to_csv('Final_distances.csv', sep=\"|\", index=False)"
   ]
  },
  {
   "cell_type": "code",
   "execution_count": 225,
   "metadata": {},
   "outputs": [
    {
     "data": {
      "text/html": [
       "<div style=\"width:100%;\"><div style=\"position:relative;width:100%;height:0;padding-bottom:60%;\"><iframe src=\"data:text/html;charset=utf-8;base64,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\" style=\"position:absolute;width:100%;height:100%;left:0;top:0;border:none !important;\" allowfullscreen webkitallowfullscreen mozallowfullscreen></iframe></div></div>"
      ],
      "text/plain": [
       "<folium.folium.Map at 0x11fa1d890>"
      ]
     },
     "execution_count": 225,
     "metadata": {},
     "output_type": "execute_result"
    }
   ],
   "source": [
    "mapa = folium.Map(\n",
    "    location=depas['Lugar de trabajo'],\n",
    "    zoom_start=15,\n",
    "    tiles='openstreetmap')\n",
    "tooltip = 'Click me!'\n",
    "mapa"
   ]
  },
  {
   "cell_type": "code",
   "execution_count": 226,
   "metadata": {},
   "outputs": [],
   "source": [
    "for index, row in data.head(10).iterrows():\n",
    "    folium.Marker([row['Latitud'], row['Longitud']], \n",
    "                  radius=500,\n",
    "                  popup=row['Address'],\n",
    "                  icon=folium.Icon(color='purple',icon='home')\n",
    "                 ).add_to(mapa)"
   ]
  },
  {
   "cell_type": "code",
   "execution_count": 227,
   "metadata": {},
   "outputs": [
    {
     "data": {
      "text/html": [
       "<div style=\"width:100%;\"><div style=\"position:relative;width:100%;height:0;padding-bottom:60%;\"><iframe src=\"data:text/html;charset=utf-8;base64,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\" style=\"position:absolute;width:100%;height:100%;left:0;top:0;border:none !important;\" allowfullscreen webkitallowfullscreen mozallowfullscreen></iframe></div></div>"
      ],
      "text/plain": [
       "<folium.folium.Map at 0x11fa1d890>"
      ]
     },
     "execution_count": 227,
     "metadata": {},
     "output_type": "execute_result"
    }
   ],
   "source": [
    "mapa"
   ]
  },
  {
   "cell_type": "code",
   "execution_count": 228,
   "metadata": {},
   "outputs": [],
   "source": [
    "mapa2 = folium.Map(\n",
    "    location=depas['Lugar de trabajo'],\n",
    "    zoom_start=15,\n",
    "    tiles='openstreetmap')\n",
    "tooltip = 'Click me!'\n",
    "\n",
    "\n",
    "for index, row in data.sort_values(by='Distance').head(10).iterrows():\n",
    "    folium.Marker([row['Latitud'], row['Longitud']], \n",
    "                  radius=15,\n",
    "                  popup=row[['Address','Bedrooms','Price(MX$)']],\n",
    "                  icon=folium.Icon(color='purple',icon='home')\n",
    "                 ).add_to(mapa2)\n"
   ]
  },
  {
   "cell_type": "code",
   "execution_count": 244,
   "metadata": {},
   "outputs": [
    {
     "data": {
      "text/plain": [
       "[19.4212752, -99.1631294]"
      ]
     },
     "execution_count": 244,
     "metadata": {},
     "output_type": "execute_result"
    }
   ],
   "source": [
    "ubi"
   ]
  },
  {
   "cell_type": "code",
   "execution_count": 247,
   "metadata": {},
   "outputs": [
    {
     "data": {
      "text/plain": [
       "<folium.map.Marker at 0x11f86d6d0>"
      ]
     },
     "execution_count": 247,
     "metadata": {},
     "output_type": "execute_result"
    }
   ],
   "source": [
    "mapa2 = folium.Map(\n",
    "    location=depas['Lugar de trabajo'],\n",
    "    zoom_start=15,\n",
    "    tiles='openstreetmap')\n",
    "tooltip = 'Click me!'\n",
    "\n",
    "\n",
    "for index, row in test.sort_values(by='Distance').head(10).iterrows():\n",
    "    folium.Marker([row['Latitud'], row['Longitud']], \n",
    "                  radius=500,\n",
    "                  popup=row[['Address','Bedrooms','Price(MX$)']],\n",
    "                  icon=folium.Icon(color='purple',icon='home')\n",
    "                 ).add_to(mapa2)\n",
    "    \n",
    "folium.Marker(ubi, icon=folium.Icon(color='blue',icon='home')).add_to(mapa2)\n"
   ]
  },
  {
   "cell_type": "code",
   "execution_count": 248,
   "metadata": {},
   "outputs": [
    {
     "data": {
      "text/html": [
       "<div style=\"width:100%;\"><div style=\"position:relative;width:100%;height:0;padding-bottom:60%;\"><iframe src=\"data:text/html;charset=utf-8;base64,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\" style=\"position:absolute;width:100%;height:100%;left:0;top:0;border:none !important;\" allowfullscreen webkitallowfullscreen mozallowfullscreen></iframe></div></div>"
      ],
      "text/plain": [
       "<folium.folium.Map at 0x1223dde50>"
      ]
     },
     "execution_count": 248,
     "metadata": {},
     "output_type": "execute_result"
    }
   ],
   "source": [
    "mapa2"
   ]
  },
  {
   "cell_type": "code",
   "execution_count": null,
   "metadata": {},
   "outputs": [],
   "source": []
  },
  {
   "cell_type": "code",
   "execution_count": 108,
   "metadata": {},
   "outputs": [
    {
     "data": {
      "text/html": [
       "<div>\n",
       "<style scoped>\n",
       "    .dataframe tbody tr th:only-of-type {\n",
       "        vertical-align: middle;\n",
       "    }\n",
       "\n",
       "    .dataframe tbody tr th {\n",
       "        vertical-align: top;\n",
       "    }\n",
       "\n",
       "    .dataframe thead th {\n",
       "        text-align: right;\n",
       "    }\n",
       "</style>\n",
       "<table border=\"1\" class=\"dataframe\">\n",
       "  <thead>\n",
       "    <tr style=\"text-align: right;\">\n",
       "      <th></th>\n",
       "      <th>Address</th>\n",
       "      <th>Price(MX$)</th>\n",
       "      <th>Bedrooms</th>\n",
       "      <th>Bathrooms</th>\n",
       "      <th>Size(m2)</th>\n",
       "      <th>Latitud</th>\n",
       "      <th>Longitud</th>\n",
       "      <th>Coordinates</th>\n",
       "      <th>Distance</th>\n",
       "    </tr>\n",
       "  </thead>\n",
       "  <tbody>\n",
       "    <tr>\n",
       "      <th>117</th>\n",
       "      <td>Presa Falcón 243, Ph1, Ampliación Granada, M...</td>\n",
       "      <td>50000</td>\n",
       "      <td>2</td>\n",
       "      <td>3.0</td>\n",
       "      <td>220</td>\n",
       "      <td>19.443572</td>\n",
       "      <td>-99.204573</td>\n",
       "      <td>19.4435717,-99.204573</td>\n",
       "      <td>10982.96563934168 km</td>\n",
       "    </tr>\n",
       "    <tr>\n",
       "      <th>257</th>\n",
       "      <td>Departamento En Renta En Carrimon De 3 Recam...</td>\n",
       "      <td>50000</td>\n",
       "      <td>3</td>\n",
       "      <td>3.0</td>\n",
       "      <td>290</td>\n",
       "      <td>19.385382</td>\n",
       "      <td>-99.254108</td>\n",
       "      <td>19.3853815,-99.2541083</td>\n",
       "      <td>10988.518494836617 km</td>\n",
       "    </tr>\n",
       "    <tr>\n",
       "      <th>389</th>\n",
       "      <td>Campos Elíseos 1, Polanco, Miguel Hidalgo, D...</td>\n",
       "      <td>50000</td>\n",
       "      <td>3</td>\n",
       "      <td>3.0</td>\n",
       "      <td>274</td>\n",
       "      <td>19.428787</td>\n",
       "      <td>-99.180368</td>\n",
       "      <td>19.4287872,-99.1803683</td>\n",
       "      <td>10980.518474211114 km</td>\n",
       "    </tr>\n",
       "    <tr>\n",
       "      <th>579</th>\n",
       "      <td>Mazaryk 400, Polanco, Miguel Hidalgo, Distri...</td>\n",
       "      <td>50000</td>\n",
       "      <td>4</td>\n",
       "      <td>5.0</td>\n",
       "      <td>350</td>\n",
       "      <td>19.431703</td>\n",
       "      <td>-99.198464</td>\n",
       "      <td>19.4317034,-99.198464</td>\n",
       "      <td>10982.398041889843 km</td>\n",
       "    </tr>\n",
       "  </tbody>\n",
       "</table>\n",
       "</div>"
      ],
      "text/plain": [
       "                                               Address  Price(MX$)  Bedrooms  \\\n",
       "117    Presa Falcón 243, Ph1, Ampliación Granada, M...       50000         2   \n",
       "257    Departamento En Renta En Carrimon De 3 Recam...       50000         3   \n",
       "389    Campos Elíseos 1, Polanco, Miguel Hidalgo, D...       50000         3   \n",
       "579    Mazaryk 400, Polanco, Miguel Hidalgo, Distri...       50000         4   \n",
       "\n",
       "     Bathrooms Size(m2)    Latitud   Longitud             Coordinates  \\\n",
       "117        3.0      220  19.443572 -99.204573   19.4435717,-99.204573   \n",
       "257        3.0      290  19.385382 -99.254108  19.3853815,-99.2541083   \n",
       "389        3.0      274  19.428787 -99.180368  19.4287872,-99.1803683   \n",
       "579        5.0      350  19.431703 -99.198464   19.4317034,-99.198464   \n",
       "\n",
       "                  Distance  \n",
       "117   10982.96563934168 km  \n",
       "257  10988.518494836617 km  \n",
       "389  10980.518474211114 km  \n",
       "579  10982.398041889843 km  "
      ]
     },
     "execution_count": 108,
     "metadata": {},
     "output_type": "execute_result"
    }
   ],
   "source": [
    "data[data['Bedrooms']==2]\n",
    "data[data['Price(MX$)'] == 50000]"
   ]
  },
  {
   "cell_type": "code",
   "execution_count": null,
   "metadata": {},
   "outputs": [],
   "source": []
  },
  {
   "cell_type": "code",
   "execution_count": null,
   "metadata": {},
   "outputs": [],
   "source": []
  },
  {
   "cell_type": "code",
   "execution_count": null,
   "metadata": {},
   "outputs": [],
   "source": []
  },
  {
   "cell_type": "code",
   "execution_count": null,
   "metadata": {},
   "outputs": [],
   "source": []
  }
 ],
 "metadata": {
  "kernelspec": {
   "display_name": "Python 3",
   "language": "python",
   "name": "python3"
  },
  "language_info": {
   "codemirror_mode": {
    "name": "ipython",
    "version": 3
   },
   "file_extension": ".py",
   "mimetype": "text/x-python",
   "name": "python",
   "nbconvert_exporter": "python",
   "pygments_lexer": "ipython3",
   "version": "3.7.4"
  }
 },
 "nbformat": 4,
 "nbformat_minor": 2
}
