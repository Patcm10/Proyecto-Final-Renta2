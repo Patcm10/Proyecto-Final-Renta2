{
 "cells": [
  {
   "cell_type": "code",
   "execution_count": null,
   "metadata": {},
   "outputs": [],
   "source": [
    "import pandas as pd\n",
    "import os\n",
    "from dotenv import load_dotenv\n",
    "import googlemaps\n",
    "from geopy import distance\n",
    "import folium"
   ]
  },
  {
   "cell_type": "code",
   "execution_count": null,
   "metadata": {},
   "outputs": [],
   "source": [
    "data = pd.read_csv('lista_final.csv',sep='|')"
   ]
  },
  {
   "cell_type": "code",
   "execution_count": null,
   "metadata": {},
   "outputs": [],
   "source": [
    "load_dotenv()"
   ]
  },
  {
   "cell_type": "code",
   "execution_count": null,
   "metadata": {},
   "outputs": [],
   "source": [
    "API_key=os.getenv('API')"
   ]
  },
  {
   "cell_type": "code",
   "execution_count": null,
   "metadata": {},
   "outputs": [],
   "source": [
    "gmaps_key = googlemaps.Client(key=API_key)"
   ]
  },
  {
   "cell_type": "code",
   "execution_count": null,
   "metadata": {},
   "outputs": [],
   "source": [
    "def get_coord(string):\n",
    "    geocode_result = gmaps_key.geocode(string)\n",
    "    try:\n",
    "        lat = geocode_result[0]['geometry']['location']['lat']\n",
    "        lon = geocode_result[0]['geometry']['location']['lng']\n",
    "        return [lat,lon]\n",
    "    except:\n",
    "        return [None,None]"
   ]
  },
  {
   "cell_type": "code",
   "execution_count": null,
   "metadata": {},
   "outputs": [],
   "source": [
    "#data['Rango precios'] = data['Price(MX$)']"
   ]
  },
  {
   "cell_type": "code",
   "execution_count": null,
   "metadata": {},
   "outputs": [],
   "source": [
    "#data.info()"
   ]
  },
  {
   "cell_type": "code",
   "execution_count": null,
   "metadata": {},
   "outputs": [],
   "source": [
    "def rentas():\n",
    "    rango_precios = {'1':'5000-10000','2':'10000-15000','3':'15000-20000','4':'20000-25000','5':'25000-30000','6':'30000-35000','7':'35000-40000','8':'40000-45000','9':'45000-50000','10':'>50000'}\n",
    "    dummy = data.copy()\n",
    "    \n",
    "    indice_precios = rango_precios[input(f'Selecciona un rango de precios: {str(rango_precios)}')].split('-')\n",
    "    \n",
    "    dummy = dummy[dummy['Price(MX$)'].between(int(indice_precios[0]), int(indice_precios[1]))]\n",
    "    \n",
    "    indice_hab = int(input((f'Selecciona número de habitantes: ')))\n",
    "    dummy = dummy[dummy['Bedrooms'] == indice_hab]\n",
    "\n",
    "    coord_trab = input(f'Cual es tu ubicacion? : ')\n",
    "\n",
    "    ubicacion = get_coord(coord_trab)\n",
    "    dummy['Distance'] = dummy['Coordinates'].str.split(',').apply(\\\n",
    "                        lambda x:get_distance(x, ubicacion))\n",
    "    \n",
    "    dummy = dummy[dummy['Distance']<=5]\n",
    "    \n",
    "    return dummy, ubicacion"
   ]
  },
  {
   "cell_type": "code",
   "execution_count": null,
   "metadata": {},
   "outputs": [],
   "source": [
    "test, ubi = rentas()"
   ]
  },
  {
   "cell_type": "code",
   "execution_count": null,
   "metadata": {},
   "outputs": [],
   "source": [
    "ubi"
   ]
  },
  {
   "cell_type": "code",
   "execution_count": null,
   "metadata": {},
   "outputs": [],
   "source": [
    "test['Address']"
   ]
  },
  {
   "cell_type": "code",
   "execution_count": null,
   "metadata": {},
   "outputs": [],
   "source": [
    "depas = rentas()"
   ]
  },
  {
   "cell_type": "code",
   "execution_count": null,
   "metadata": {},
   "outputs": [],
   "source": [
    "depas"
   ]
  },
  {
   "cell_type": "code",
   "execution_count": null,
   "metadata": {
    "scrolled": false
   },
   "outputs": [],
   "source": [
    "#depas.sort_value(by='Distance').head()"
   ]
  },
  {
   "cell_type": "code",
   "execution_count": null,
   "metadata": {},
   "outputs": [],
   "source": [
    "def get_distance(pointx, pointy):\n",
    "    return distance.distance(pointx,pointy)"
   ]
  },
  {
   "cell_type": "code",
   "execution_count": null,
   "metadata": {},
   "outputs": [],
   "source": [
    "get_distance([-39, 99], [-40, 98])"
   ]
  },
  {
   "cell_type": "code",
   "execution_count": null,
   "metadata": {},
   "outputs": [],
   "source": [
    "#Calcular coordenadas\n",
    "data['Distance'] = data['Coordinates'].apply(lambda x: get_distance(x.split(\",\")))"
   ]
  },
  {
   "cell_type": "code",
   "execution_count": null,
   "metadata": {},
   "outputs": [],
   "source": [
    "#data.to_csv('Final_distances.csv', sep=\"|\", index=False)"
   ]
  },
  {
   "cell_type": "code",
   "execution_count": null,
   "metadata": {},
   "outputs": [],
   "source": [
    "mapa = folium.Map(\n",
    "    location=depas['Lugar de trabajo'],\n",
    "    zoom_start=15,\n",
    "    tiles='openstreetmap')\n",
    "tooltip = 'Click me!'\n",
    "mapa"
   ]
  },
  {
   "cell_type": "code",
   "execution_count": null,
   "metadata": {},
   "outputs": [],
   "source": [
    "for index, row in data.head(10).iterrows():\n",
    "    folium.Marker([row['Latitud'], row['Longitud']], \n",
    "                  radius=500,\n",
    "                  popup=row['Address'],\n",
    "                  icon=folium.Icon(color='purple',icon='home')\n",
    "                 ).add_to(mapa)"
   ]
  },
  {
   "cell_type": "code",
   "execution_count": null,
   "metadata": {},
   "outputs": [],
   "source": [
    "mapa"
   ]
  },
  {
   "cell_type": "code",
   "execution_count": 1,
   "metadata": {},
   "outputs": [
    {
     "ename": "NameError",
     "evalue": "name 'folium' is not defined",
     "output_type": "error",
     "traceback": [
      "\u001b[0;31m---------------------------------------------------------------------------\u001b[0m",
      "\u001b[0;31mNameError\u001b[0m                                 Traceback (most recent call last)",
      "\u001b[0;32m<ipython-input-1-7cfee99689c5>\u001b[0m in \u001b[0;36m<module>\u001b[0;34m\u001b[0m\n\u001b[0;32m----> 1\u001b[0;31m mapa2 = folium.Map(\n\u001b[0m\u001b[1;32m      2\u001b[0m     \u001b[0mlocation\u001b[0m\u001b[0;34m=\u001b[0m\u001b[0mdepas\u001b[0m\u001b[0;34m,\u001b[0m\u001b[0;34m\u001b[0m\u001b[0;34m\u001b[0m\u001b[0m\n\u001b[1;32m      3\u001b[0m     \u001b[0mzoom_start\u001b[0m\u001b[0;34m=\u001b[0m\u001b[0;36m15\u001b[0m\u001b[0;34m,\u001b[0m\u001b[0;34m\u001b[0m\u001b[0;34m\u001b[0m\u001b[0m\n\u001b[1;32m      4\u001b[0m     tiles='openstreetmap')\n\u001b[1;32m      5\u001b[0m \u001b[0mtooltip\u001b[0m \u001b[0;34m=\u001b[0m \u001b[0;34m'Click me!'\u001b[0m\u001b[0;34m\u001b[0m\u001b[0;34m\u001b[0m\u001b[0m\n",
      "\u001b[0;31mNameError\u001b[0m: name 'folium' is not defined"
     ]
    }
   ],
   "source": [
    "mapa2 = folium.Map(\n",
    "    location=depas['Lugar de trabajo'],\n",
    "    zoom_start=15,\n",
    "    tiles='openstreetmap')\n",
    "tooltip = 'Click me!'\n",
    "\n",
    "\n",
    "for index, row in data.sort_values(by='Distance').head(10).iterrows():\n",
    "    folium.Marker([row['Latitud'], row['Longitud']], \n",
    "                  radius=15,\n",
    "                  popup=row[['Address','Bedrooms','Price(MX$)']],\n",
    "                  icon=folium.Icon(color='purple',icon='home')\n",
    "                 ).add_to(mapa2)\n"
   ]
  },
  {
   "cell_type": "code",
   "execution_count": null,
   "metadata": {},
   "outputs": [],
   "source": [
    "ubi"
   ]
  },
  {
   "cell_type": "code",
   "execution_count": null,
   "metadata": {},
   "outputs": [],
   "source": [
    "mapa2 = folium.Map(\n",
    "    location=depas['Lugar de trabajo'],\n",
    "    zoom_start=15,\n",
    "    tiles='openstreetmap')\n",
    "tooltip = 'Click me!'\n",
    "\n",
    "\n",
    "for index, row in test.sort_values(by='Distance').head(10).iterrows():\n",
    "    folium.Marker([row['Latitud'], row['Longitud']], \n",
    "                  radius=500,\n",
    "                  popup=row[['Address','Bedrooms','Price(MX$)']],\n",
    "                  icon=folium.Icon(color='purple',icon='home')\n",
    "                 ).add_to(mapa2)\n",
    "    \n",
    "folium.Marker(ubi, icon=folium.Icon(color='blue',icon='home')).add_to(mapa2)\n"
   ]
  },
  {
   "cell_type": "code",
   "execution_count": null,
   "metadata": {},
   "outputs": [],
   "source": [
    "mapa2"
   ]
  },
  {
   "cell_type": "code",
   "execution_count": null,
   "metadata": {},
   "outputs": [],
   "source": []
  }
 ],
 "metadata": {
  "kernelspec": {
   "display_name": "Python 3",
   "language": "python",
   "name": "python3"
  },
  "language_info": {
   "codemirror_mode": {
    "name": "ipython",
    "version": 3
   },
   "file_extension": ".py",
   "mimetype": "text/x-python",
   "name": "python",
   "nbconvert_exporter": "python",
   "pygments_lexer": "ipython3",
   "version": "3.7.4"
  }
 },
 "nbformat": 4,
 "nbformat_minor": 2
}
