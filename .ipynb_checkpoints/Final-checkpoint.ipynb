{
 "cells": [
  {
   "cell_type": "code",
   "execution_count": 1,
   "metadata": {},
   "outputs": [],
   "source": [
    "import pandas as pd"
   ]
  },
  {
   "cell_type": "code",
   "execution_count": 3,
   "metadata": {},
   "outputs": [
    {
     "ename": "SyntaxError",
     "evalue": "invalid syntax (<ipython-input-3-ad7eb2297f8a>, line 15)",
     "output_type": "error",
     "traceback": [
      "\u001b[0;36m  File \u001b[0;32m\"<ipython-input-3-ad7eb2297f8a>\"\u001b[0;36m, line \u001b[0;32m15\u001b[0m\n\u001b[0;31m    return self_precios\u001b[0m\n\u001b[0m         ^\u001b[0m\n\u001b[0;31mSyntaxError\u001b[0m\u001b[0;31m:\u001b[0m invalid syntax\n"
     ]
    }
   ],
   "source": [
    "class precios_departmento:\n",
    "    \n",
    "    def _init_(self):\n",
    "    \n",
    "       self_precios= []\n",
    "    \n",
    "    def precios(self):\n",
    "        #INPUTS para buscar precios del departamento\n",
    "        print('Rango de precios:')\n",
    "        data = pd.read_csv('Address.csv',sep='|')\n",
    "        data.head()\n",
    "        habitantes = input('Número de habitantes: ')\n",
    "        Hobby = input('¿Cuál es su hobby?: ').split()\n",
    "        self_precios = [data['Longitud'][0]['Latitud']\n",
    "        return self_precios"
   ]
  },
  {
   "cell_type": "code",
   "execution_count": null,
   "metadata": {},
   "outputs": [],
   "source": []
  }
 ],
 "metadata": {
  "kernelspec": {
   "display_name": "Python 3",
   "language": "python",
   "name": "python3"
  },
  "language_info": {
   "codemirror_mode": {
    "name": "ipython",
    "version": 3
   },
   "file_extension": ".py",
   "mimetype": "text/x-python",
   "name": "python",
   "nbconvert_exporter": "python",
   "pygments_lexer": "ipython3",
   "version": "3.7.4"
  }
 },
 "nbformat": 4,
 "nbformat_minor": 2
}
