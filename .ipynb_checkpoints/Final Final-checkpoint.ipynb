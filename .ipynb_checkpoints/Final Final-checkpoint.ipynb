{
 "cells": [
  {
   "cell_type": "code",
   "execution_count": 1,
   "metadata": {},
   "outputs": [],
   "source": [
    "import pandas as pd\n",
    "import os\n",
    "from dotenv import load_dotenv\n",
    "import googlemaps\n",
    "from geopy import distance\n",
    "import folium"
   ]
  },
  {
   "cell_type": "code",
   "execution_count": 2,
   "metadata": {},
   "outputs": [],
   "source": [
    "data = pd.read_csv('lista_final.csv',sep='|')"
   ]
  },
  {
   "cell_type": "code",
   "execution_count": 3,
   "metadata": {},
   "outputs": [
    {
     "data": {
      "text/plain": [
       "True"
      ]
     },
     "execution_count": 3,
     "metadata": {},
     "output_type": "execute_result"
    }
   ],
   "source": [
    "load_dotenv()"
   ]
  },
  {
   "cell_type": "code",
   "execution_count": 4,
   "metadata": {},
   "outputs": [],
   "source": [
    "API_key=os.getenv('API')"
   ]
  },
  {
   "cell_type": "code",
   "execution_count": 5,
   "metadata": {},
   "outputs": [],
   "source": [
    "gmaps_key = googlemaps.Client(key=API_key)"
   ]
  },
  {
   "cell_type": "code",
   "execution_count": 6,
   "metadata": {},
   "outputs": [],
   "source": [
    "def get_coord(string):\n",
    "    geocode_result = gmaps_key.geocode(string)\n",
    "    try:\n",
    "        lat = geocode_result[0]['geometry']['location']['lat']\n",
    "        lon = geocode_result[0]['geometry']['location']['lng']\n",
    "        return [lat,lon]\n",
    "    except:\n",
    "        return [None,None]"
   ]
  },
  {
   "cell_type": "code",
   "execution_count": 71,
   "metadata": {},
   "outputs": [],
   "source": [
    "def get_distance(pointx, pointy):\n",
    "    return distance.distance(pointx,pointy)"
   ]
  },
  {
   "cell_type": "code",
   "execution_count": 72,
   "metadata": {},
   "outputs": [
    {
     "data": {
      "text/plain": [
       "Distance(140.44294774014736)"
      ]
     },
     "execution_count": 72,
     "metadata": {},
     "output_type": "execute_result"
    }
   ],
   "source": [
    "get_distance([-39, 99], [-40, 98])"
   ]
  },
  {
   "cell_type": "code",
   "execution_count": 82,
   "metadata": {},
   "outputs": [],
   "source": [
    "def rentas():\n",
    "    rango_precios = {'1':'5000-10000','2':'10000-15000','3':'15000-20000','4':'20000-25000','5':'25000-30000','6':'30000-35000','7':'35000-40000','8':'40000-45000','9':'45000-50000','10':'>50000'}\n",
    "    dummy = data.copy()\n",
    "    \n",
    "    indice_precios = rango_precios[input(f'Selecciona un rango de precios: {str(rango_precios)}')].split('-')\n",
    "    \n",
    "    dummy = dummy[dummy['Price(MX$)'].between(int(indice_precios[0]), int(indice_precios[1]))]\n",
    "    \n",
    "    indice_hab = int(input((f'Selecciona número de habitantes: ')))\n",
    "    dummy = dummy[dummy['Bedrooms'] == indice_hab]\n",
    "\n",
    "    coord_trab = input(f'Cual es tu ubicacion? : ')\n",
    "\n",
    "    ubicacion = get_coord(coord_trab)\n",
    "    dummy['Distance'] = dummy['Coordinates'].str.split(',').apply(\\\n",
    "                        lambda x:get_distance(x, ubicacion))\n",
    "    \n",
    "    dummy = dummy[dummy['Distance']<=5]\n",
    "    \n",
    "    return dummy, ubicacion"
   ]
  },
  {
   "cell_type": "code",
   "execution_count": 14,
   "metadata": {},
   "outputs": [
    {
     "name": "stdout",
     "output_type": "stream",
     "text": [
      "Selecciona un rango de precios: {'1': '5000-10000', '2': '10000-15000', '3': '15000-20000', '4': '20000-25000', '5': '25000-30000', '6': '30000-35000', '7': '35000-40000', '8': '40000-45000', '9': '45000-50000', '10': '>50000'}2\n",
      "Selecciona número de habitantes: 2\n",
      "Cual es tu ubicacion? : tonala 10\n"
     ]
    }
   ],
   "source": [
    "test, ubi = rentas()"
   ]
  },
  {
   "cell_type": "code",
   "execution_count": 47,
   "metadata": {},
   "outputs": [
    {
     "data": {
      "text/plain": [
       "[19.4212752, -99.1631294]"
      ]
     },
     "execution_count": 47,
     "metadata": {},
     "output_type": "execute_result"
    }
   ],
   "source": [
    "ubi"
   ]
  },
  {
   "cell_type": "code",
   "execution_count": 48,
   "metadata": {},
   "outputs": [
    {
     "data": {
      "text/plain": [
       "38       Centro (área 1), Cuauhtémoc, Distrito Federa...\n",
       "45       Centro (área 1), Cuauhtémoc, Distrito Federa...\n",
       "52       Centro (área 1), Cuauhtémoc, Distrito Federa...\n",
       "60       Centro (área 1), Cuauhtémoc, Distrito Federa...\n",
       "67       Centro (área 1), Cuauhtémoc, Distrito Federa...\n",
       "74       Centro (área 1), Cuauhtémoc, Distrito Federa...\n",
       "84       Centro (área 1), Cuauhtémoc, Distrito Federa...\n",
       "137      Golfo De San Jorge 37 Tacuba Miguel Hidalgo,...\n",
       "152      Guanábana 10, Nueva Santa Maria, Azcapotzalc...\n",
       "156      Lago Zirahuen 98, Colonia Anahuac I Sección,...\n",
       "186      R.salido 166, Independencia, Benito Juárez, ...\n",
       "290      Rafael Solana 5, Independencia, Benito Juáre...\n",
       "296      Thomas A Edison 139, San Rafael, Cuauhtémoc,...\n",
       "310      11 De Abril 177 303 A, Ciudad De México, Dis...\n",
       "338      Peral 26, Santa Maria La Ribera, Cuauhtémoc,...\n",
       "388      Av Cuauhtemoc 514, Narvarte, Benito Juárez, ...\n",
       "481      Lago Como 128, 504, Miguel Hidalgo, Distrito...\n",
       "537      Avenida 2 200, San Pedro De Los Pinos, Álvar...\n",
       "541      Avenida Parque Lira 141, 12, San Miguel Chap...\n",
       "557      Parque Lira 0, San Miguel Chapultepec, Migue...\n",
       "575      Concepcion Beistigui 616, 201, Del Valle, Be...\n",
       "Name: Address, dtype: object"
      ]
     },
     "execution_count": 48,
     "metadata": {},
     "output_type": "execute_result"
    }
   ],
   "source": [
    "test['Address']"
   ]
  },
  {
   "cell_type": "code",
   "execution_count": 19,
   "metadata": {},
   "outputs": [
    {
     "name": "stdout",
     "output_type": "stream",
     "text": [
      "Selecciona un rango de precios: {'1': '5000-10000', '2': '10000-15000', '3': '15000-20000', '4': '20000-25000', '5': '25000-30000', '6': '30000-35000', '7': '35000-40000', '8': '40000-45000', '9': '45000-50000', '10': '>50000'}1\n",
      "Selecciona número de habitantes: 2\n",
      "Cual es tu ubicacion? : tonala 10\n"
     ]
    }
   ],
   "source": [
    "depas = rentas()"
   ]
  },
  {
   "cell_type": "code",
   "execution_count": 20,
   "metadata": {},
   "outputs": [
    {
     "data": {
      "text/plain": [
       "(                                               Address  Price(MX$)  Bedrooms  \\\n",
       " 39     Centro (área 1), Cuauhtémoc, Distrito Federa...        8500         2   \n",
       " 41     Centro (área 1), Cuauhtémoc, Distrito Federa...        9000         2   \n",
       " 44     Centro (área 1), Cuauhtémoc, Distrito Federa...        6500         2   \n",
       " 46     Centro (área 1), Cuauhtémoc, Distrito Federa...        8500         2   \n",
       " 48     Centro (área 1), Cuauhtémoc, Distrito Federa...        9000         2   \n",
       " 51     Centro (área 1), Cuauhtémoc, Distrito Federa...        6500         2   \n",
       " 53     Centro (área 1), Cuauhtémoc, Distrito Federa...        8500         2   \n",
       " 55     Centro (área 1), Cuauhtémoc, Distrito Federa...        9000         2   \n",
       " 58     Centro (área 1), Cuauhtémoc, Distrito Federa...        6500         2   \n",
       " 61     Centro (área 1), Cuauhtémoc, Distrito Federa...        8500         2   \n",
       " 63     Centro (área 1), Cuauhtémoc, Distrito Federa...        9000         2   \n",
       " 66     Centro (área 1), Cuauhtémoc, Distrito Federa...        6500         2   \n",
       " 68     Centro (área 1), Cuauhtémoc, Distrito Federa...        8500         2   \n",
       " 70     Centro (área 1), Cuauhtémoc, Distrito Federa...        9000         2   \n",
       " 73     Centro (área 1), Cuauhtémoc, Distrito Federa...        6500         2   \n",
       " 75     Centro (área 1), Cuauhtémoc, Distrito Federa...        8500         2   \n",
       " 77     Centro (área 1), Cuauhtémoc, Distrito Federa...        9000         2   \n",
       " 80     Centro (área 1), Cuauhtémoc, Distrito Federa...        6500         2   \n",
       " 85     Centro (área 1), Cuauhtémoc, Distrito Federa...        8500         2   \n",
       " 87     Centro (área 1), Cuauhtémoc, Distrito Federa...        9000         2   \n",
       " 90     Centro (área 1), Cuauhtémoc, Distrito Federa...        6500         2   \n",
       " 166    Cumbres De Acultzingo 67, 108, Narvarte, Ben...        9500         2   \n",
       " \n",
       "      Bathrooms Size(m2)    Latitud   Longitud                     Coordinates  \\\n",
       " 39         1.0       72  19.430268 -99.137314  19.430267800000003,-99.1373136   \n",
       " 41         1.0       65  19.430268 -99.137314  19.430267800000003,-99.1373136   \n",
       " 44         1.0       59  19.430268 -99.137314  19.430267800000003,-99.1373136   \n",
       " 46         1.0       72  19.430268 -99.137314  19.430267800000003,-99.1373136   \n",
       " 48         1.0       65  19.430268 -99.137314  19.430267800000003,-99.1373136   \n",
       " 51         1.0       59  19.430268 -99.137314  19.430267800000003,-99.1373136   \n",
       " 53         1.0       72  19.430268 -99.137314  19.430267800000003,-99.1373136   \n",
       " 55         1.0       65  19.430268 -99.137314  19.430267800000003,-99.1373136   \n",
       " 58         1.0       59  19.430268 -99.137314  19.430267800000003,-99.1373136   \n",
       " 61         1.0       72  19.430268 -99.137314  19.430267800000003,-99.1373136   \n",
       " 63         1.0       65  19.430268 -99.137314  19.430267800000003,-99.1373136   \n",
       " 66         1.0       59  19.430268 -99.137314  19.430267800000003,-99.1373136   \n",
       " 68         1.0       72  19.430268 -99.137314  19.430267800000003,-99.1373136   \n",
       " 70         1.0       65  19.430268 -99.137314  19.430267800000003,-99.1373136   \n",
       " 73         1.0       59  19.430268 -99.137314  19.430267800000003,-99.1373136   \n",
       " 75         1.0       72  19.430268 -99.137314  19.430267800000003,-99.1373136   \n",
       " 77         1.0       65  19.430268 -99.137314  19.430267800000003,-99.1373136   \n",
       " 80         1.0       59  19.430268 -99.137314  19.430267800000003,-99.1373136   \n",
       " 85         1.0       72  19.430268 -99.137314  19.430267800000003,-99.1373136   \n",
       " 87         1.0       65  19.430268 -99.137314  19.430267800000003,-99.1373136   \n",
       " 90         1.0       59  19.430268 -99.137314  19.430267800000003,-99.1373136   \n",
       " 166        1.0       70  19.392331 -99.147842          19.3923314,-99.1478421   \n",
       " \n",
       "                   Distance  \n",
       " 39   2.8881806728454142 km  \n",
       " 41   2.8881806728454142 km  \n",
       " 44   2.8881806728454142 km  \n",
       " 46   2.8881806728454142 km  \n",
       " 48   2.8881806728454142 km  \n",
       " 51   2.8881806728454142 km  \n",
       " 53   2.8881806728454142 km  \n",
       " 55   2.8881806728454142 km  \n",
       " 58   2.8881806728454142 km  \n",
       " 61   2.8881806728454142 km  \n",
       " 63   2.8881806728454142 km  \n",
       " 66   2.8881806728454142 km  \n",
       " 68   2.8881806728454142 km  \n",
       " 70   2.8881806728454142 km  \n",
       " 73   2.8881806728454142 km  \n",
       " 75   2.8881806728454142 km  \n",
       " 77   2.8881806728454142 km  \n",
       " 80   2.8881806728454142 km  \n",
       " 85   2.8881806728454142 km  \n",
       " 87   2.8881806728454142 km  \n",
       " 90   2.8881806728454142 km  \n",
       " 166  3.5838195999968905 km  , [19.4212752, -99.1631294])"
      ]
     },
     "execution_count": 20,
     "metadata": {},
     "output_type": "execute_result"
    }
   ],
   "source": [
    "depas"
   ]
  },
  {
   "cell_type": "code",
   "execution_count": 103,
   "metadata": {},
   "outputs": [],
   "source": [
    "data['Distance'] = data['Coordinates'].apply(lambda x: get_distance(x.split(\",\")))"
   ]
  },
  {
   "cell_type": "code",
   "execution_count": 86,
   "metadata": {},
   "outputs": [],
   "source": [
    "data.sort_values(by='Distance').head()"
   ]
  },
  {
   "cell_type": "code",
   "execution_count": 61,
   "metadata": {},
   "outputs": [],
   "source": [
    "mapa = folium.Map(\n",
    "    location=ubi,\n",
    "    zoom_start=15,\n",
    "    tiles='openstreetmap')\n",
    "tooltip = 'Click me!'"
   ]
  },
  {
   "cell_type": "code",
   "execution_count": 62,
   "metadata": {},
   "outputs": [],
   "source": [
    "for index, row in data.head(10).iterrows():\n",
    "    folium.Marker([row['Latitud'], row['Longitud']], \n",
    "                  radius=500,\n",
    "                  popup=row['Address'],\n",
    "                  icon=folium.Icon(color='purple',icon='home')\n",
    "                 ).add_to(mapa)"
   ]
  },
  {
   "cell_type": "code",
   "execution_count": 63,
   "metadata": {},
   "outputs": [
    {
     "data": {
      "text/html": [
       "<div style=\"width:100%;\"><div style=\"position:relative;width:100%;height:0;padding-bottom:60%;\"><iframe src=\"data:text/html;charset=utf-8;base64,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\" style=\"position:absolute;width:100%;height:100%;left:0;top:0;border:none !important;\" allowfullscreen webkitallowfullscreen mozallowfullscreen></iframe></div></div>"
      ],
      "text/plain": [
       "<folium.folium.Map at 0x11e0b6350>"
      ]
     },
     "execution_count": 63,
     "metadata": {},
     "output_type": "execute_result"
    }
   ],
   "source": [
    "mapa"
   ]
  },
  {
   "cell_type": "code",
   "execution_count": 100,
   "metadata": {},
   "outputs": [
    {
     "ename": "KeyError",
     "evalue": "'Distances'",
     "output_type": "error",
     "traceback": [
      "\u001b[0;31m---------------------------------------------------------------------------\u001b[0m",
      "\u001b[0;31mKeyError\u001b[0m                                  Traceback (most recent call last)",
      "\u001b[0;32m/usr/local/lib/python3.7/site-packages/pandas/core/indexes/base.py\u001b[0m in \u001b[0;36mget_loc\u001b[0;34m(self, key, method, tolerance)\u001b[0m\n\u001b[1;32m   2656\u001b[0m             \u001b[0;32mtry\u001b[0m\u001b[0;34m:\u001b[0m\u001b[0;34m\u001b[0m\u001b[0;34m\u001b[0m\u001b[0m\n\u001b[0;32m-> 2657\u001b[0;31m                 \u001b[0;32mreturn\u001b[0m \u001b[0mself\u001b[0m\u001b[0;34m.\u001b[0m\u001b[0m_engine\u001b[0m\u001b[0;34m.\u001b[0m\u001b[0mget_loc\u001b[0m\u001b[0;34m(\u001b[0m\u001b[0mkey\u001b[0m\u001b[0;34m)\u001b[0m\u001b[0;34m\u001b[0m\u001b[0;34m\u001b[0m\u001b[0m\n\u001b[0m\u001b[1;32m   2658\u001b[0m             \u001b[0;32mexcept\u001b[0m \u001b[0mKeyError\u001b[0m\u001b[0;34m:\u001b[0m\u001b[0;34m\u001b[0m\u001b[0;34m\u001b[0m\u001b[0m\n",
      "\u001b[0;32mpandas/_libs/index.pyx\u001b[0m in \u001b[0;36mpandas._libs.index.IndexEngine.get_loc\u001b[0;34m()\u001b[0m\n",
      "\u001b[0;32mpandas/_libs/index.pyx\u001b[0m in \u001b[0;36mpandas._libs.index.IndexEngine.get_loc\u001b[0;34m()\u001b[0m\n",
      "\u001b[0;32mpandas/_libs/hashtable_class_helper.pxi\u001b[0m in \u001b[0;36mpandas._libs.hashtable.PyObjectHashTable.get_item\u001b[0;34m()\u001b[0m\n",
      "\u001b[0;32mpandas/_libs/hashtable_class_helper.pxi\u001b[0m in \u001b[0;36mpandas._libs.hashtable.PyObjectHashTable.get_item\u001b[0;34m()\u001b[0m\n",
      "\u001b[0;31mKeyError\u001b[0m: 'Distances'",
      "\nDuring handling of the above exception, another exception occurred:\n",
      "\u001b[0;31mKeyError\u001b[0m                                  Traceback (most recent call last)",
      "\u001b[0;32m<ipython-input-100-02cb36e2cac8>\u001b[0m in \u001b[0;36m<module>\u001b[0;34m\u001b[0m\n\u001b[1;32m      1\u001b[0m mapa2 = folium.Map(\n\u001b[0;32m----> 2\u001b[0;31m     \u001b[0mlocation\u001b[0m\u001b[0;34m=\u001b[0m\u001b[0mtest\u001b[0m\u001b[0;34m[\u001b[0m\u001b[0;34m'Distances'\u001b[0m\u001b[0;34m]\u001b[0m\u001b[0;34m,\u001b[0m\u001b[0;34m\u001b[0m\u001b[0;34m\u001b[0m\u001b[0m\n\u001b[0m\u001b[1;32m      3\u001b[0m     \u001b[0mzoom_start\u001b[0m\u001b[0;34m=\u001b[0m\u001b[0;36m15\u001b[0m\u001b[0;34m,\u001b[0m\u001b[0;34m\u001b[0m\u001b[0;34m\u001b[0m\u001b[0m\n\u001b[1;32m      4\u001b[0m     tiles='openstreetmap')\n\u001b[1;32m      5\u001b[0m \u001b[0mtooltip\u001b[0m \u001b[0;34m=\u001b[0m \u001b[0;34m'Click me!'\u001b[0m\u001b[0;34m\u001b[0m\u001b[0;34m\u001b[0m\u001b[0m\n",
      "\u001b[0;32m/usr/local/lib/python3.7/site-packages/pandas/core/frame.py\u001b[0m in \u001b[0;36m__getitem__\u001b[0;34m(self, key)\u001b[0m\n\u001b[1;32m   2925\u001b[0m             \u001b[0;32mif\u001b[0m \u001b[0mself\u001b[0m\u001b[0;34m.\u001b[0m\u001b[0mcolumns\u001b[0m\u001b[0;34m.\u001b[0m\u001b[0mnlevels\u001b[0m \u001b[0;34m>\u001b[0m \u001b[0;36m1\u001b[0m\u001b[0;34m:\u001b[0m\u001b[0;34m\u001b[0m\u001b[0;34m\u001b[0m\u001b[0m\n\u001b[1;32m   2926\u001b[0m                 \u001b[0;32mreturn\u001b[0m \u001b[0mself\u001b[0m\u001b[0;34m.\u001b[0m\u001b[0m_getitem_multilevel\u001b[0m\u001b[0;34m(\u001b[0m\u001b[0mkey\u001b[0m\u001b[0;34m)\u001b[0m\u001b[0;34m\u001b[0m\u001b[0;34m\u001b[0m\u001b[0m\n\u001b[0;32m-> 2927\u001b[0;31m             \u001b[0mindexer\u001b[0m \u001b[0;34m=\u001b[0m \u001b[0mself\u001b[0m\u001b[0;34m.\u001b[0m\u001b[0mcolumns\u001b[0m\u001b[0;34m.\u001b[0m\u001b[0mget_loc\u001b[0m\u001b[0;34m(\u001b[0m\u001b[0mkey\u001b[0m\u001b[0;34m)\u001b[0m\u001b[0;34m\u001b[0m\u001b[0;34m\u001b[0m\u001b[0m\n\u001b[0m\u001b[1;32m   2928\u001b[0m             \u001b[0;32mif\u001b[0m \u001b[0mis_integer\u001b[0m\u001b[0;34m(\u001b[0m\u001b[0mindexer\u001b[0m\u001b[0;34m)\u001b[0m\u001b[0;34m:\u001b[0m\u001b[0;34m\u001b[0m\u001b[0;34m\u001b[0m\u001b[0m\n\u001b[1;32m   2929\u001b[0m                 \u001b[0mindexer\u001b[0m \u001b[0;34m=\u001b[0m \u001b[0;34m[\u001b[0m\u001b[0mindexer\u001b[0m\u001b[0;34m]\u001b[0m\u001b[0;34m\u001b[0m\u001b[0;34m\u001b[0m\u001b[0m\n",
      "\u001b[0;32m/usr/local/lib/python3.7/site-packages/pandas/core/indexes/base.py\u001b[0m in \u001b[0;36mget_loc\u001b[0;34m(self, key, method, tolerance)\u001b[0m\n\u001b[1;32m   2657\u001b[0m                 \u001b[0;32mreturn\u001b[0m \u001b[0mself\u001b[0m\u001b[0;34m.\u001b[0m\u001b[0m_engine\u001b[0m\u001b[0;34m.\u001b[0m\u001b[0mget_loc\u001b[0m\u001b[0;34m(\u001b[0m\u001b[0mkey\u001b[0m\u001b[0;34m)\u001b[0m\u001b[0;34m\u001b[0m\u001b[0;34m\u001b[0m\u001b[0m\n\u001b[1;32m   2658\u001b[0m             \u001b[0;32mexcept\u001b[0m \u001b[0mKeyError\u001b[0m\u001b[0;34m:\u001b[0m\u001b[0;34m\u001b[0m\u001b[0;34m\u001b[0m\u001b[0m\n\u001b[0;32m-> 2659\u001b[0;31m                 \u001b[0;32mreturn\u001b[0m \u001b[0mself\u001b[0m\u001b[0;34m.\u001b[0m\u001b[0m_engine\u001b[0m\u001b[0;34m.\u001b[0m\u001b[0mget_loc\u001b[0m\u001b[0;34m(\u001b[0m\u001b[0mself\u001b[0m\u001b[0;34m.\u001b[0m\u001b[0m_maybe_cast_indexer\u001b[0m\u001b[0;34m(\u001b[0m\u001b[0mkey\u001b[0m\u001b[0;34m)\u001b[0m\u001b[0;34m)\u001b[0m\u001b[0;34m\u001b[0m\u001b[0;34m\u001b[0m\u001b[0m\n\u001b[0m\u001b[1;32m   2660\u001b[0m         \u001b[0mindexer\u001b[0m \u001b[0;34m=\u001b[0m \u001b[0mself\u001b[0m\u001b[0;34m.\u001b[0m\u001b[0mget_indexer\u001b[0m\u001b[0;34m(\u001b[0m\u001b[0;34m[\u001b[0m\u001b[0mkey\u001b[0m\u001b[0;34m]\u001b[0m\u001b[0;34m,\u001b[0m \u001b[0mmethod\u001b[0m\u001b[0;34m=\u001b[0m\u001b[0mmethod\u001b[0m\u001b[0;34m,\u001b[0m \u001b[0mtolerance\u001b[0m\u001b[0;34m=\u001b[0m\u001b[0mtolerance\u001b[0m\u001b[0;34m)\u001b[0m\u001b[0;34m\u001b[0m\u001b[0;34m\u001b[0m\u001b[0m\n\u001b[1;32m   2661\u001b[0m         \u001b[0;32mif\u001b[0m \u001b[0mindexer\u001b[0m\u001b[0;34m.\u001b[0m\u001b[0mndim\u001b[0m \u001b[0;34m>\u001b[0m \u001b[0;36m1\u001b[0m \u001b[0;32mor\u001b[0m \u001b[0mindexer\u001b[0m\u001b[0;34m.\u001b[0m\u001b[0msize\u001b[0m \u001b[0;34m>\u001b[0m \u001b[0;36m1\u001b[0m\u001b[0;34m:\u001b[0m\u001b[0;34m\u001b[0m\u001b[0;34m\u001b[0m\u001b[0m\n",
      "\u001b[0;32mpandas/_libs/index.pyx\u001b[0m in \u001b[0;36mpandas._libs.index.IndexEngine.get_loc\u001b[0;34m()\u001b[0m\n",
      "\u001b[0;32mpandas/_libs/index.pyx\u001b[0m in \u001b[0;36mpandas._libs.index.IndexEngine.get_loc\u001b[0;34m()\u001b[0m\n",
      "\u001b[0;32mpandas/_libs/hashtable_class_helper.pxi\u001b[0m in \u001b[0;36mpandas._libs.hashtable.PyObjectHashTable.get_item\u001b[0;34m()\u001b[0m\n",
      "\u001b[0;32mpandas/_libs/hashtable_class_helper.pxi\u001b[0m in \u001b[0;36mpandas._libs.hashtable.PyObjectHashTable.get_item\u001b[0;34m()\u001b[0m\n",
      "\u001b[0;31mKeyError\u001b[0m: 'Distances'"
     ]
    }
   ],
   "source": [
    "mapa2 = folium.Map(\n",
    "    location=test['Distances'],\n",
    "    zoom_start=15,\n",
    "    tiles='openstreetmap')\n",
    "tooltip = 'Click me!'\n",
    "\n",
    "\n",
    "for index, row in test.sort_values(by='Distance').head(10).iterrows():\n",
    "    folium.Marker([row['Latitud'], row['Longitud']], \n",
    "                  radius=15,\n",
    "                  popup=row[['Address','Bedrooms','Price(MX$)']],\n",
    "                  icon=folium.Icon(color='purple',icon='home')\n",
    "                 ).add_to(mapa2)\n",
    "\n"
   ]
  },
  {
   "cell_type": "code",
   "execution_count": 65,
   "metadata": {},
   "outputs": [
    {
     "data": {
      "text/plain": [
       "[19.4212752, -99.1631294]"
      ]
     },
     "execution_count": 65,
     "metadata": {},
     "output_type": "execute_result"
    }
   ],
   "source": [
    "ubi"
   ]
  },
  {
   "cell_type": "code",
   "execution_count": 97,
   "metadata": {},
   "outputs": [
    {
     "ename": "ValueError",
     "evalue": "Expected two (lat, lon) values for location, instead got: 38     2.8881806728454142 km\n45     2.8881806728454142 km\n52     2.8881806728454142 km\n60     2.8881806728454142 km\n67     2.8881806728454142 km\n74     2.8881806728454142 km\n84     2.8881806728454142 km\n137      4.42255326153396 km\n152     4.259473900646973 km\n156    2.8385483994740905 km\n186     4.535295606572306 km\n290     4.811051954645216 km\n296    2.0076424329775655 km\n310     3.552807435157517 km\n338     3.661546915267793 km\n388    2.5292497803233265 km\n481     3.520452628136385 km\n537     4.245479852943575 km\n541    3.1965693982032146 km\n557    3.1362208165524432 km\n575    3.5075471580737028 km\nName: Distance, dtype: object.",
     "output_type": "error",
     "traceback": [
      "\u001b[0;31m---------------------------------------------------------------------------\u001b[0m",
      "\u001b[0;31mValueError\u001b[0m                                Traceback (most recent call last)",
      "\u001b[0;32m<ipython-input-97-e99bd69d24be>\u001b[0m in \u001b[0;36m<module>\u001b[0;34m\u001b[0m\n\u001b[1;32m      2\u001b[0m     \u001b[0mlocation\u001b[0m\u001b[0;34m=\u001b[0m\u001b[0mtest\u001b[0m\u001b[0;34m[\u001b[0m\u001b[0;34m'Distance'\u001b[0m\u001b[0;34m]\u001b[0m\u001b[0;34m,\u001b[0m\u001b[0;34m\u001b[0m\u001b[0;34m\u001b[0m\u001b[0m\n\u001b[1;32m      3\u001b[0m     \u001b[0mzoom_start\u001b[0m\u001b[0;34m=\u001b[0m\u001b[0;36m15\u001b[0m\u001b[0;34m,\u001b[0m\u001b[0;34m\u001b[0m\u001b[0;34m\u001b[0m\u001b[0m\n\u001b[0;32m----> 4\u001b[0;31m     tiles='openstreetmap')\n\u001b[0m\u001b[1;32m      5\u001b[0m \u001b[0mtooltip\u001b[0m \u001b[0;34m=\u001b[0m \u001b[0;34m'Click me!'\u001b[0m\u001b[0;34m\u001b[0m\u001b[0;34m\u001b[0m\u001b[0m\n\u001b[1;32m      6\u001b[0m \u001b[0;34m\u001b[0m\u001b[0m\n",
      "\u001b[0;32m/usr/local/lib/python3.7/site-packages/folium/folium.py\u001b[0m in \u001b[0;36m__init__\u001b[0;34m(self, location, width, height, left, top, position, tiles, attr, min_zoom, max_zoom, zoom_start, min_lat, max_lat, min_lon, max_lon, max_bounds, crs, control_scale, prefer_canvas, no_touch, disable_3d, png_enabled, zoom_control, **kwargs)\u001b[0m\n\u001b[1;32m    247\u001b[0m             \u001b[0mzoom_start\u001b[0m \u001b[0;34m=\u001b[0m \u001b[0;36m1\u001b[0m\u001b[0;34m\u001b[0m\u001b[0;34m\u001b[0m\u001b[0m\n\u001b[1;32m    248\u001b[0m         \u001b[0;32melse\u001b[0m\u001b[0;34m:\u001b[0m\u001b[0;34m\u001b[0m\u001b[0;34m\u001b[0m\u001b[0m\n\u001b[0;32m--> 249\u001b[0;31m             \u001b[0mself\u001b[0m\u001b[0;34m.\u001b[0m\u001b[0mlocation\u001b[0m \u001b[0;34m=\u001b[0m \u001b[0mvalidate_location\u001b[0m\u001b[0;34m(\u001b[0m\u001b[0mlocation\u001b[0m\u001b[0;34m)\u001b[0m\u001b[0;34m\u001b[0m\u001b[0;34m\u001b[0m\u001b[0m\n\u001b[0m\u001b[1;32m    250\u001b[0m \u001b[0;34m\u001b[0m\u001b[0m\n\u001b[1;32m    251\u001b[0m         \u001b[0mFigure\u001b[0m\u001b[0;34m(\u001b[0m\u001b[0;34m)\u001b[0m\u001b[0;34m.\u001b[0m\u001b[0madd_child\u001b[0m\u001b[0;34m(\u001b[0m\u001b[0mself\u001b[0m\u001b[0;34m)\u001b[0m\u001b[0;34m\u001b[0m\u001b[0;34m\u001b[0m\u001b[0m\n",
      "\u001b[0;32m/usr/local/lib/python3.7/site-packages/folium/utilities.py\u001b[0m in \u001b[0;36mvalidate_location\u001b[0;34m(location)\u001b[0m\n\u001b[1;32m     48\u001b[0m     \u001b[0;32mif\u001b[0m \u001b[0mlen\u001b[0m\u001b[0;34m(\u001b[0m\u001b[0mlocation\u001b[0m\u001b[0;34m)\u001b[0m \u001b[0;34m!=\u001b[0m \u001b[0;36m2\u001b[0m\u001b[0;34m:\u001b[0m\u001b[0;34m\u001b[0m\u001b[0;34m\u001b[0m\u001b[0m\n\u001b[1;32m     49\u001b[0m         raise ValueError('Expected two (lat, lon) values for location, '\n\u001b[0;32m---> 50\u001b[0;31m                          'instead got: {!r}.'.format(location))\n\u001b[0m\u001b[1;32m     51\u001b[0m     \u001b[0;32mtry\u001b[0m\u001b[0;34m:\u001b[0m\u001b[0;34m\u001b[0m\u001b[0;34m\u001b[0m\u001b[0m\n\u001b[1;32m     52\u001b[0m         \u001b[0mcoords\u001b[0m \u001b[0;34m=\u001b[0m \u001b[0;34m(\u001b[0m\u001b[0mlocation\u001b[0m\u001b[0;34m[\u001b[0m\u001b[0;36m0\u001b[0m\u001b[0;34m]\u001b[0m\u001b[0;34m,\u001b[0m \u001b[0mlocation\u001b[0m\u001b[0;34m[\u001b[0m\u001b[0;36m1\u001b[0m\u001b[0;34m]\u001b[0m\u001b[0;34m)\u001b[0m\u001b[0;34m\u001b[0m\u001b[0;34m\u001b[0m\u001b[0m\n",
      "\u001b[0;31mValueError\u001b[0m: Expected two (lat, lon) values for location, instead got: 38     2.8881806728454142 km\n45     2.8881806728454142 km\n52     2.8881806728454142 km\n60     2.8881806728454142 km\n67     2.8881806728454142 km\n74     2.8881806728454142 km\n84     2.8881806728454142 km\n137      4.42255326153396 km\n152     4.259473900646973 km\n156    2.8385483994740905 km\n186     4.535295606572306 km\n290     4.811051954645216 km\n296    2.0076424329775655 km\n310     3.552807435157517 km\n338     3.661546915267793 km\n388    2.5292497803233265 km\n481     3.520452628136385 km\n537     4.245479852943575 km\n541    3.1965693982032146 km\n557    3.1362208165524432 km\n575    3.5075471580737028 km\nName: Distance, dtype: object."
     ]
    }
   ],
   "source": [
    "mapa2 = folium.Map(\n",
    "    location=test['Distance'],\n",
    "    zoom_start=15,\n",
    "    tiles='openstreetmap')\n",
    "tooltip = 'Click me!'\n",
    "\n",
    "\n",
    "for index, row in test.sort_values(by='Distance').head(10).iterrows():\n",
    "    folium.Marker([row['Latitud'], row['Longitud']], \n",
    "                  radius=500,\n",
    "                  popup=row[['Address','Bedrooms','Price(MX$)']],\n",
    "                  icon=folium.Icon(color='purple',icon='home')\n",
    "                 ).add_to(mapa2)\n",
    "    \n",
    "folium.Marker(ubi, icon=folium.Icon(color='blue',icon='home')).add_to(mapa2)\n",
    "\n"
   ]
  },
  {
   "cell_type": "code",
   "execution_count": null,
   "metadata": {},
   "outputs": [],
   "source": []
  }
 ],
 "metadata": {
  "kernelspec": {
   "display_name": "Python 3",
   "language": "python",
   "name": "python3"
  },
  "language_info": {
   "codemirror_mode": {
    "name": "ipython",
    "version": 3
   },
   "file_extension": ".py",
   "mimetype": "text/x-python",
   "name": "python",
   "nbconvert_exporter": "python",
   "pygments_lexer": "ipython3",
   "version": "3.7.4"
  }
 },
 "nbformat": 4,
 "nbformat_minor": 2
}
