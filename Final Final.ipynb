{
 "cells": [
  {
   "cell_type": "code",
   "execution_count": 1,
   "metadata": {},
   "outputs": [],
   "source": [
    "import pandas as pd\n",
    "import os\n",
    "from dotenv import load_dotenv\n",
    "import googlemaps\n",
    "from geopy import distance\n",
    "import folium"
   ]
  },
  {
   "cell_type": "code",
   "execution_count": 2,
   "metadata": {},
   "outputs": [],
   "source": [
    "data = pd.read_csv('lista_final.csv',sep='|')"
   ]
  },
  {
   "cell_type": "code",
   "execution_count": 3,
   "metadata": {},
   "outputs": [
    {
     "data": {
      "text/plain": [
       "True"
      ]
     },
     "execution_count": 3,
     "metadata": {},
     "output_type": "execute_result"
    }
   ],
   "source": [
    "load_dotenv()"
   ]
  },
  {
   "cell_type": "code",
   "execution_count": 7,
   "metadata": {},
   "outputs": [],
   "source": [
    "API_key=os.getenv('API')"
   ]
  },
  {
   "cell_type": "code",
   "execution_count": 8,
   "metadata": {},
   "outputs": [],
   "source": [
    "gmaps_key = googlemaps.Client(key=API_key)"
   ]
  },
  {
   "cell_type": "code",
   "execution_count": 20,
   "metadata": {},
   "outputs": [],
   "source": [
    "def get_coord(string):\n",
    "    geocode_result = gmaps_key.geocode(string)\n",
    "    try:\n",
    "        lat = geocode_result[0]['geometry']['location']['lat']\n",
    "        lon = geocode_result[0]['geometry']['location']['lng']\n",
    "        return [lat,lon]\n",
    "    except:\n",
    "        return [None,None]"
   ]
  },
  {
   "cell_type": "code",
   "execution_count": 21,
   "metadata": {},
   "outputs": [],
   "source": [
    "def get_distance(pointx, pointy):\n",
    "    return distance.distance(pointx,pointy)"
   ]
  },
  {
   "cell_type": "code",
   "execution_count": 22,
   "metadata": {},
   "outputs": [
    {
     "data": {
      "text/plain": [
       "Distance(140.44294774014736)"
      ]
     },
     "execution_count": 22,
     "metadata": {},
     "output_type": "execute_result"
    }
   ],
   "source": [
    "get_distance([-39, 99], [-40, 98])"
   ]
  },
  {
   "cell_type": "code",
   "execution_count": 23,
   "metadata": {},
   "outputs": [],
   "source": [
    "def rentas():\n",
    "    rango_precios = {'1':'5000-10000','2':'10000-15000','3':'15000-20000','4':'20000-25000','5':'25000-30000','6':'30000-35000','7':'35000-40000','8':'40000-45000','9':'45000-50000','10':'>50000'}\n",
    "    dummy = data.copy()\n",
    "    \n",
    "    indice_precios = rango_precios[input(f'Selecciona un rango de precios: {str(rango_precios)}')].split('-')\n",
    "    \n",
    "    dummy = dummy[dummy['Price(MX$)'].between(int(indice_precios[0]), int(indice_precios[1]))]\n",
    "    \n",
    "    indice_hab = int(input((f'Selecciona número de habitantes: ')))\n",
    "    dummy = dummy[dummy['Bedrooms'] == indice_hab]\n",
    "\n",
    "    coord_trab = input(f'Cual es tu ubicacion? : ')\n",
    "\n",
    "    ubicacion = get_coord(coord_trab)\n",
    "    dummy['Distance'] = dummy['Coordinates'].str.split(',').apply(\\\n",
    "                        lambda x:get_distance(x, ubicacion))\n",
    "    \n",
    "    dummy = dummy[dummy['Distance']<=5]\n",
    "    \n",
    "    dummy.drop_duplicates(subset='Address', inplace=True)\n",
    "    \n",
    "    return dummy, ubicacion"
   ]
  },
  {
   "cell_type": "code",
   "execution_count": 24,
   "metadata": {},
   "outputs": [
    {
     "name": "stdout",
     "output_type": "stream",
     "text": [
      "Selecciona un rango de precios: {'1': '5000-10000', '2': '10000-15000', '3': '15000-20000', '4': '20000-25000', '5': '25000-30000', '6': '30000-35000', '7': '35000-40000', '8': '40000-45000', '9': '45000-50000', '10': '>50000'}1\n",
      "Selecciona número de habitantes: 2\n",
      "Cual es tu ubicacion? : Vicente beristain 56\n"
     ]
    }
   ],
   "source": [
    "test, ubi = rentas()"
   ]
  },
  {
   "cell_type": "code",
   "execution_count": 25,
   "metadata": {},
   "outputs": [
    {
     "data": {
      "text/plain": [
       "[19.4108668, -99.1335738]"
      ]
     },
     "execution_count": 25,
     "metadata": {},
     "output_type": "execute_result"
    }
   ],
   "source": [
    "ubi"
   ]
  },
  {
   "cell_type": "code",
   "execution_count": 26,
   "metadata": {},
   "outputs": [
    {
     "data": {
      "text/html": [
       "<div>\n",
       "<style scoped>\n",
       "    .dataframe tbody tr th:only-of-type {\n",
       "        vertical-align: middle;\n",
       "    }\n",
       "\n",
       "    .dataframe tbody tr th {\n",
       "        vertical-align: top;\n",
       "    }\n",
       "\n",
       "    .dataframe thead th {\n",
       "        text-align: right;\n",
       "    }\n",
       "</style>\n",
       "<table border=\"1\" class=\"dataframe\">\n",
       "  <thead>\n",
       "    <tr style=\"text-align: right;\">\n",
       "      <th></th>\n",
       "      <th>Address</th>\n",
       "      <th>Price(MX$)</th>\n",
       "      <th>Bedrooms</th>\n",
       "      <th>Bathrooms</th>\n",
       "      <th>Size(m2)</th>\n",
       "      <th>Latitud</th>\n",
       "      <th>Longitud</th>\n",
       "      <th>Coordinates</th>\n",
       "      <th>Distance</th>\n",
       "    </tr>\n",
       "  </thead>\n",
       "  <tbody>\n",
       "    <tr>\n",
       "      <th>39</th>\n",
       "      <td>Centro (área 1), Cuauhtémoc, Distrito Federa...</td>\n",
       "      <td>8500</td>\n",
       "      <td>2</td>\n",
       "      <td>1.0</td>\n",
       "      <td>72</td>\n",
       "      <td>19.430268</td>\n",
       "      <td>-99.137314</td>\n",
       "      <td>19.430267800000003,-99.1373136</td>\n",
       "      <td>2.183255959808334 km</td>\n",
       "    </tr>\n",
       "    <tr>\n",
       "      <th>143</th>\n",
       "      <td>Sur 109, Iztacalco, Distrito Federal (cdmx)</td>\n",
       "      <td>10000</td>\n",
       "      <td>2</td>\n",
       "      <td>1.0</td>\n",
       "      <td>100</td>\n",
       "      <td>19.379658</td>\n",
       "      <td>-99.127942</td>\n",
       "      <td>19.379658300000003,-99.12794240000001</td>\n",
       "      <td>3.504958458211645 km</td>\n",
       "    </tr>\n",
       "    <tr>\n",
       "      <th>166</th>\n",
       "      <td>Cumbres De Acultzingo 67, 108, Narvarte, Ben...</td>\n",
       "      <td>9500</td>\n",
       "      <td>2</td>\n",
       "      <td>1.0</td>\n",
       "      <td>70</td>\n",
       "      <td>19.392331</td>\n",
       "      <td>-99.147842</td>\n",
       "      <td>19.3923314,-99.1478421</td>\n",
       "      <td>2.540870656758361 km</td>\n",
       "    </tr>\n",
       "    <tr>\n",
       "      <th>350</th>\n",
       "      <td>Víctor Hugo 17, 401, Portales Oriente, Benit...</td>\n",
       "      <td>10000</td>\n",
       "      <td>2</td>\n",
       "      <td>1.0</td>\n",
       "      <td>80</td>\n",
       "      <td>19.368822</td>\n",
       "      <td>-99.138145</td>\n",
       "      <td>19.3688216,-99.1381447</td>\n",
       "      <td>4.678968977910246 km</td>\n",
       "    </tr>\n",
       "    <tr>\n",
       "      <th>561</th>\n",
       "      <td>Plutarco Elias Calles 282, Iztacalco, Distri...</td>\n",
       "      <td>10000</td>\n",
       "      <td>2</td>\n",
       "      <td>1.0</td>\n",
       "      <td>72</td>\n",
       "      <td>19.397825</td>\n",
       "      <td>-99.111950</td>\n",
       "      <td>19.3978246,-99.1119502</td>\n",
       "      <td>2.69125921854357 km</td>\n",
       "    </tr>\n",
       "  </tbody>\n",
       "</table>\n",
       "</div>"
      ],
      "text/plain": [
       "                                               Address  Price(MX$)  Bedrooms  \\\n",
       "39     Centro (área 1), Cuauhtémoc, Distrito Federa...        8500         2   \n",
       "143        Sur 109, Iztacalco, Distrito Federal (cdmx)       10000         2   \n",
       "166    Cumbres De Acultzingo 67, 108, Narvarte, Ben...        9500         2   \n",
       "350    Víctor Hugo 17, 401, Portales Oriente, Benit...       10000         2   \n",
       "561    Plutarco Elias Calles 282, Iztacalco, Distri...       10000         2   \n",
       "\n",
       "     Bathrooms Size(m2)    Latitud   Longitud  \\\n",
       "39         1.0       72  19.430268 -99.137314   \n",
       "143        1.0      100  19.379658 -99.127942   \n",
       "166        1.0       70  19.392331 -99.147842   \n",
       "350        1.0       80  19.368822 -99.138145   \n",
       "561        1.0       72  19.397825 -99.111950   \n",
       "\n",
       "                               Coordinates              Distance  \n",
       "39          19.430267800000003,-99.1373136  2.183255959808334 km  \n",
       "143  19.379658300000003,-99.12794240000001  3.504958458211645 km  \n",
       "166                 19.3923314,-99.1478421  2.540870656758361 km  \n",
       "350                 19.3688216,-99.1381447  4.678968977910246 km  \n",
       "561                 19.3978246,-99.1119502   2.69125921854357 km  "
      ]
     },
     "execution_count": 26,
     "metadata": {},
     "output_type": "execute_result"
    }
   ],
   "source": [
    "test.head()"
   ]
  },
  {
   "cell_type": "markdown",
   "metadata": {},
   "source": [
    "depas = rentas()"
   ]
  },
  {
   "cell_type": "markdown",
   "metadata": {},
   "source": [
    "depas"
   ]
  },
  {
   "cell_type": "markdown",
   "metadata": {},
   "source": [
    "data['Distance'] = data['Coordinates'].apply(lambda x: get_distance(x.split(\",\")))"
   ]
  },
  {
   "cell_type": "markdown",
   "metadata": {},
   "source": [
    "data.sort_values(by='Distance').head()"
   ]
  },
  {
   "cell_type": "markdown",
   "metadata": {},
   "source": [
    "mapa = folium.Map(\n",
    "    location=ubi,\n",
    "    zoom_start=15,\n",
    "    tiles='openstreetmap')\n",
    "tooltip = 'Click me!'"
   ]
  },
  {
   "cell_type": "markdown",
   "metadata": {},
   "source": [
    "for index, row in data.head(10).iterrows():\n",
    "    folium.Marker([row['Latitud'], row['Longitud']], \n",
    "                  radius=500,\n",
    "                  popup=row['Address'],\n",
    "                  icon=folium.Icon(color='purple',icon='home')\n",
    "                 ).add_to(mapa)"
   ]
  },
  {
   "cell_type": "markdown",
   "metadata": {},
   "source": [
    "mapa"
   ]
  },
  {
   "cell_type": "code",
   "execution_count": 27,
   "metadata": {},
   "outputs": [],
   "source": [
    "test.drop_duplicates(subset='Address', inplace=True)"
   ]
  },
  {
   "cell_type": "code",
   "execution_count": 28,
   "metadata": {},
   "outputs": [
    {
     "data": {
      "text/html": [
       "<div>\n",
       "<style scoped>\n",
       "    .dataframe tbody tr th:only-of-type {\n",
       "        vertical-align: middle;\n",
       "    }\n",
       "\n",
       "    .dataframe tbody tr th {\n",
       "        vertical-align: top;\n",
       "    }\n",
       "\n",
       "    .dataframe thead th {\n",
       "        text-align: right;\n",
       "    }\n",
       "</style>\n",
       "<table border=\"1\" class=\"dataframe\">\n",
       "  <thead>\n",
       "    <tr style=\"text-align: right;\">\n",
       "      <th></th>\n",
       "      <th>Address</th>\n",
       "      <th>Price(MX$)</th>\n",
       "      <th>Bedrooms</th>\n",
       "      <th>Bathrooms</th>\n",
       "      <th>Size(m2)</th>\n",
       "      <th>Latitud</th>\n",
       "      <th>Longitud</th>\n",
       "      <th>Coordinates</th>\n",
       "      <th>Distance</th>\n",
       "    </tr>\n",
       "  </thead>\n",
       "  <tbody>\n",
       "    <tr>\n",
       "      <th>39</th>\n",
       "      <td>Centro (área 1), Cuauhtémoc, Distrito Federa...</td>\n",
       "      <td>8500</td>\n",
       "      <td>2</td>\n",
       "      <td>1.0</td>\n",
       "      <td>72</td>\n",
       "      <td>19.430268</td>\n",
       "      <td>-99.137314</td>\n",
       "      <td>19.430267800000003,-99.1373136</td>\n",
       "      <td>2.183255959808334 km</td>\n",
       "    </tr>\n",
       "    <tr>\n",
       "      <th>166</th>\n",
       "      <td>Cumbres De Acultzingo 67, 108, Narvarte, Ben...</td>\n",
       "      <td>9500</td>\n",
       "      <td>2</td>\n",
       "      <td>1.0</td>\n",
       "      <td>70</td>\n",
       "      <td>19.392331</td>\n",
       "      <td>-99.147842</td>\n",
       "      <td>19.3923314,-99.1478421</td>\n",
       "      <td>2.540870656758361 km</td>\n",
       "    </tr>\n",
       "    <tr>\n",
       "      <th>561</th>\n",
       "      <td>Plutarco Elias Calles 282, Iztacalco, Distri...</td>\n",
       "      <td>10000</td>\n",
       "      <td>2</td>\n",
       "      <td>1.0</td>\n",
       "      <td>72</td>\n",
       "      <td>19.397825</td>\n",
       "      <td>-99.111950</td>\n",
       "      <td>19.3978246,-99.1119502</td>\n",
       "      <td>2.69125921854357 km</td>\n",
       "    </tr>\n",
       "    <tr>\n",
       "      <th>143</th>\n",
       "      <td>Sur 109, Iztacalco, Distrito Federal (cdmx)</td>\n",
       "      <td>10000</td>\n",
       "      <td>2</td>\n",
       "      <td>1.0</td>\n",
       "      <td>100</td>\n",
       "      <td>19.379658</td>\n",
       "      <td>-99.127942</td>\n",
       "      <td>19.379658300000003,-99.12794240000001</td>\n",
       "      <td>3.504958458211645 km</td>\n",
       "    </tr>\n",
       "    <tr>\n",
       "      <th>581</th>\n",
       "      <td>Sur 143 1614, Iztacalco, Distrito Federal (c...</td>\n",
       "      <td>7000</td>\n",
       "      <td>2</td>\n",
       "      <td>1.0</td>\n",
       "      <td>120</td>\n",
       "      <td>19.387874</td>\n",
       "      <td>-99.098426</td>\n",
       "      <td>19.3878741,-99.09842579999999</td>\n",
       "      <td>4.4842124292550505 km</td>\n",
       "    </tr>\n",
       "    <tr>\n",
       "      <th>350</th>\n",
       "      <td>Víctor Hugo 17, 401, Portales Oriente, Benit...</td>\n",
       "      <td>10000</td>\n",
       "      <td>2</td>\n",
       "      <td>1.0</td>\n",
       "      <td>80</td>\n",
       "      <td>19.368822</td>\n",
       "      <td>-99.138145</td>\n",
       "      <td>19.3688216,-99.1381447</td>\n",
       "      <td>4.678968977910246 km</td>\n",
       "    </tr>\n",
       "  </tbody>\n",
       "</table>\n",
       "</div>"
      ],
      "text/plain": [
       "                                               Address  Price(MX$)  Bedrooms  \\\n",
       "39     Centro (área 1), Cuauhtémoc, Distrito Federa...        8500         2   \n",
       "166    Cumbres De Acultzingo 67, 108, Narvarte, Ben...        9500         2   \n",
       "561    Plutarco Elias Calles 282, Iztacalco, Distri...       10000         2   \n",
       "143        Sur 109, Iztacalco, Distrito Federal (cdmx)       10000         2   \n",
       "581    Sur 143 1614, Iztacalco, Distrito Federal (c...        7000         2   \n",
       "350    Víctor Hugo 17, 401, Portales Oriente, Benit...       10000         2   \n",
       "\n",
       "     Bathrooms Size(m2)    Latitud   Longitud  \\\n",
       "39         1.0       72  19.430268 -99.137314   \n",
       "166        1.0       70  19.392331 -99.147842   \n",
       "561        1.0       72  19.397825 -99.111950   \n",
       "143        1.0      100  19.379658 -99.127942   \n",
       "581        1.0      120  19.387874 -99.098426   \n",
       "350        1.0       80  19.368822 -99.138145   \n",
       "\n",
       "                               Coordinates               Distance  \n",
       "39          19.430267800000003,-99.1373136   2.183255959808334 km  \n",
       "166                 19.3923314,-99.1478421   2.540870656758361 km  \n",
       "561                 19.3978246,-99.1119502    2.69125921854357 km  \n",
       "143  19.379658300000003,-99.12794240000001   3.504958458211645 km  \n",
       "581          19.3878741,-99.09842579999999  4.4842124292550505 km  \n",
       "350                 19.3688216,-99.1381447   4.678968977910246 km  "
      ]
     },
     "execution_count": 28,
     "metadata": {},
     "output_type": "execute_result"
    }
   ],
   "source": [
    "test.sort_values(by='Distance').head(10)"
   ]
  },
  {
   "cell_type": "code",
   "execution_count": 29,
   "metadata": {},
   "outputs": [
    {
     "data": {
      "text/html": [
       "<div style=\"width:100%;\"><div style=\"position:relative;width:100%;height:0;padding-bottom:60%;\"><iframe src=\"data:text/html;charset=utf-8;base64,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\" style=\"position:absolute;width:100%;height:100%;left:0;top:0;border:none !important;\" allowfullscreen webkitallowfullscreen mozallowfullscreen></iframe></div></div>"
      ],
      "text/plain": [
       "<folium.folium.Map at 0x11dc1c0d0>"
      ]
     },
     "execution_count": 29,
     "metadata": {},
     "output_type": "execute_result"
    }
   ],
   "source": [
    "mapa2 = folium.Map(\n",
    "    location=ubi,\n",
    "    zoom_start=12,\n",
    "    tiles='openstreetmap')\n",
    "tooltip = 'Click me!'\n",
    "\n",
    "\n",
    "for index, row in test.sort_values(by='Distance').head(10).iterrows():\n",
    "    folium.Marker([row['Latitud'], row['Longitud']], \n",
    "                  radius=500,\n",
    "                  popup=row[['Address','Bedrooms','Price(MX$)']],\n",
    "                  icon=folium.Icon(color='purple',icon='home')\n",
    "                 ).add_to(mapa2)\n",
    "    \n",
    "folium.Marker(ubi, icon=folium.Icon(color='blue',icon='home')).add_to(mapa2)\n",
    "\n",
    "mapa2"
   ]
  },
  {
   "cell_type": "code",
   "execution_count": null,
   "metadata": {},
   "outputs": [],
   "source": []
  },
  {
   "cell_type": "code",
   "execution_count": null,
   "metadata": {},
   "outputs": [],
   "source": []
  }
 ],
 "metadata": {
  "kernelspec": {
   "display_name": "Python 3",
   "language": "python",
   "name": "python3"
  },
  "language_info": {
   "codemirror_mode": {
    "name": "ipython",
    "version": 3
   },
   "file_extension": ".py",
   "mimetype": "text/x-python",
   "name": "python",
   "nbconvert_exporter": "python",
   "pygments_lexer": "ipython3",
   "version": "3.7.4"
  }
 },
 "nbformat": 4,
 "nbformat_minor": 2
}
