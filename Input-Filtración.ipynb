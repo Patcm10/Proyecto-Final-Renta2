{
 "cells": [
  {
   "cell_type": "code",
   "execution_count": 5,
   "metadata": {},
   "outputs": [],
   "source": [
    "import pandas as pd"
   ]
  },
  {
   "cell_type": "code",
   "execution_count": 6,
   "metadata": {},
   "outputs": [],
   "source": [
    "address = pd.read_csv('Address.csv', sep ='|')"
   ]
  },
  {
   "cell_type": "code",
   "execution_count": 7,
   "metadata": {},
   "outputs": [],
   "source": [
    "data_all = pd.read_csv('Web-Scrapping-Proyecto Final.csv', sep='|')"
   ]
  },
  {
   "cell_type": "code",
   "execution_count": 8,
   "metadata": {},
   "outputs": [
    {
     "data": {
      "text/html": [
       "<div>\n",
       "<style scoped>\n",
       "    .dataframe tbody tr th:only-of-type {\n",
       "        vertical-align: middle;\n",
       "    }\n",
       "\n",
       "    .dataframe tbody tr th {\n",
       "        vertical-align: top;\n",
       "    }\n",
       "\n",
       "    .dataframe thead th {\n",
       "        text-align: right;\n",
       "    }\n",
       "</style>\n",
       "<table border=\"1\" class=\"dataframe\">\n",
       "  <thead>\n",
       "    <tr style=\"text-align: right;\">\n",
       "      <th></th>\n",
       "      <th>Address</th>\n",
       "      <th>Latitud</th>\n",
       "      <th>Longitud</th>\n",
       "    </tr>\n",
       "  </thead>\n",
       "  <tbody>\n",
       "    <tr>\n",
       "      <th>0</th>\n",
       "      <td>Tokio 65, A1, Juárez, Cuauhtémoc, Distrito F...</td>\n",
       "      <td>19.423694</td>\n",
       "      <td>-99.172191</td>\n",
       "    </tr>\n",
       "    <tr>\n",
       "      <th>1</th>\n",
       "      <td>Azalea 152, Lomas Quebradas, La Magdalena Co...</td>\n",
       "      <td>19.314178</td>\n",
       "      <td>-99.246085</td>\n",
       "    </tr>\n",
       "    <tr>\n",
       "      <th>2</th>\n",
       "      <td>Lago Iseo 532, Be Grand Alto Polanc, Colonia...</td>\n",
       "      <td>19.441025</td>\n",
       "      <td>-99.181858</td>\n",
       "    </tr>\n",
       "    <tr>\n",
       "      <th>3</th>\n",
       "      <td>Congreso 113, La Joya, Tlalpan, Distrito Fed...</td>\n",
       "      <td>19.280332</td>\n",
       "      <td>-99.168200</td>\n",
       "    </tr>\n",
       "    <tr>\n",
       "      <th>4</th>\n",
       "      <td>Rómulo O'farril 520, Colonia Olivar De Los P...</td>\n",
       "      <td>19.337762</td>\n",
       "      <td>-99.214591</td>\n",
       "    </tr>\n",
       "  </tbody>\n",
       "</table>\n",
       "</div>"
      ],
      "text/plain": [
       "                                             Address    Latitud   Longitud\n",
       "0    Tokio 65, A1, Juárez, Cuauhtémoc, Distrito F...  19.423694 -99.172191\n",
       "1    Azalea 152, Lomas Quebradas, La Magdalena Co...  19.314178 -99.246085\n",
       "2    Lago Iseo 532, Be Grand Alto Polanc, Colonia...  19.441025 -99.181858\n",
       "3    Congreso 113, La Joya, Tlalpan, Distrito Fed...  19.280332 -99.168200\n",
       "4    Rómulo O'farril 520, Colonia Olivar De Los P...  19.337762 -99.214591"
      ]
     },
     "execution_count": 8,
     "metadata": {},
     "output_type": "execute_result"
    }
   ],
   "source": [
    "address.head()"
   ]
  },
  {
   "cell_type": "code",
   "execution_count": 9,
   "metadata": {
    "scrolled": true
   },
   "outputs": [
    {
     "data": {
      "text/html": [
       "<div>\n",
       "<style scoped>\n",
       "    .dataframe tbody tr th:only-of-type {\n",
       "        vertical-align: middle;\n",
       "    }\n",
       "\n",
       "    .dataframe tbody tr th {\n",
       "        vertical-align: top;\n",
       "    }\n",
       "\n",
       "    .dataframe thead th {\n",
       "        text-align: right;\n",
       "    }\n",
       "</style>\n",
       "<table border=\"1\" class=\"dataframe\">\n",
       "  <thead>\n",
       "    <tr style=\"text-align: right;\">\n",
       "      <th></th>\n",
       "      <th>Address</th>\n",
       "      <th>Price(MX$)</th>\n",
       "      <th>Bedrooms</th>\n",
       "      <th>Bathrooms</th>\n",
       "      <th>Size(m2)</th>\n",
       "    </tr>\n",
       "  </thead>\n",
       "  <tbody>\n",
       "    <tr>\n",
       "      <th>0</th>\n",
       "      <td>Tokio 65, A1, Juárez, Cuauhtémoc, Distrito F...</td>\n",
       "      <td>30000</td>\n",
       "      <td>2</td>\n",
       "      <td>2.0</td>\n",
       "      <td>107</td>\n",
       "    </tr>\n",
       "    <tr>\n",
       "      <th>1</th>\n",
       "      <td>Azalea 152, Lomas Quebradas, La Magdalena Co...</td>\n",
       "      <td>13500</td>\n",
       "      <td>2</td>\n",
       "      <td>2.0</td>\n",
       "      <td>140</td>\n",
       "    </tr>\n",
       "    <tr>\n",
       "      <th>2</th>\n",
       "      <td>Lago Iseo 532, Be Grand Alto Polanc, Colonia...</td>\n",
       "      <td>35000</td>\n",
       "      <td>2</td>\n",
       "      <td>2.0</td>\n",
       "      <td>109</td>\n",
       "    </tr>\n",
       "    <tr>\n",
       "      <th>3</th>\n",
       "      <td>Congreso 113, La Joya, Tlalpan, Distrito Fed...</td>\n",
       "      <td>11350</td>\n",
       "      <td>2</td>\n",
       "      <td>1.0</td>\n",
       "      <td>102</td>\n",
       "    </tr>\n",
       "    <tr>\n",
       "      <th>4</th>\n",
       "      <td>Rómulo O'farril 520, Colonia Olivar De Los P...</td>\n",
       "      <td>14500</td>\n",
       "      <td>2</td>\n",
       "      <td>2.0</td>\n",
       "      <td>76</td>\n",
       "    </tr>\n",
       "  </tbody>\n",
       "</table>\n",
       "</div>"
      ],
      "text/plain": [
       "                                             Address  Price(MX$)  Bedrooms  \\\n",
       "0    Tokio 65, A1, Juárez, Cuauhtémoc, Distrito F...       30000         2   \n",
       "1    Azalea 152, Lomas Quebradas, La Magdalena Co...       13500         2   \n",
       "2    Lago Iseo 532, Be Grand Alto Polanc, Colonia...       35000         2   \n",
       "3    Congreso 113, La Joya, Tlalpan, Distrito Fed...       11350         2   \n",
       "4    Rómulo O'farril 520, Colonia Olivar De Los P...       14500         2   \n",
       "\n",
       "   Bathrooms Size(m2)  \n",
       "0        2.0      107  \n",
       "1        2.0      140  \n",
       "2        2.0      109  \n",
       "3        1.0      102  \n",
       "4        2.0       76  "
      ]
     },
     "execution_count": 9,
     "metadata": {},
     "output_type": "execute_result"
    }
   ],
   "source": [
    "data_all.head()"
   ]
  },
  {
   "cell_type": "code",
   "execution_count": 10,
   "metadata": {},
   "outputs": [
    {
     "data": {
      "text/html": [
       "<div>\n",
       "<style scoped>\n",
       "    .dataframe tbody tr th:only-of-type {\n",
       "        vertical-align: middle;\n",
       "    }\n",
       "\n",
       "    .dataframe tbody tr th {\n",
       "        vertical-align: top;\n",
       "    }\n",
       "\n",
       "    .dataframe thead th {\n",
       "        text-align: right;\n",
       "    }\n",
       "</style>\n",
       "<table border=\"1\" class=\"dataframe\">\n",
       "  <thead>\n",
       "    <tr style=\"text-align: right;\">\n",
       "      <th></th>\n",
       "      <th>Address</th>\n",
       "      <th>Latitud</th>\n",
       "      <th>Longitud</th>\n",
       "      <th>Price(MX$)</th>\n",
       "      <th>Bedrooms</th>\n",
       "      <th>Bathrooms</th>\n",
       "      <th>Size(m2)</th>\n",
       "    </tr>\n",
       "  </thead>\n",
       "  <tbody>\n",
       "    <tr>\n",
       "      <th>0</th>\n",
       "      <td>Tokio 65, A1, Juárez, Cuauhtémoc, Distrito F...</td>\n",
       "      <td>19.423694</td>\n",
       "      <td>-99.172191</td>\n",
       "      <td>30000</td>\n",
       "      <td>2</td>\n",
       "      <td>2.0</td>\n",
       "      <td>107</td>\n",
       "    </tr>\n",
       "    <tr>\n",
       "      <th>1</th>\n",
       "      <td>Azalea 152, Lomas Quebradas, La Magdalena Co...</td>\n",
       "      <td>19.314178</td>\n",
       "      <td>-99.246085</td>\n",
       "      <td>13500</td>\n",
       "      <td>2</td>\n",
       "      <td>2.0</td>\n",
       "      <td>140</td>\n",
       "    </tr>\n",
       "    <tr>\n",
       "      <th>2</th>\n",
       "      <td>Lago Iseo 532, Be Grand Alto Polanc, Colonia...</td>\n",
       "      <td>19.441025</td>\n",
       "      <td>-99.181858</td>\n",
       "      <td>35000</td>\n",
       "      <td>2</td>\n",
       "      <td>2.0</td>\n",
       "      <td>109</td>\n",
       "    </tr>\n",
       "    <tr>\n",
       "      <th>3</th>\n",
       "      <td>Congreso 113, La Joya, Tlalpan, Distrito Fed...</td>\n",
       "      <td>19.280332</td>\n",
       "      <td>-99.168200</td>\n",
       "      <td>11350</td>\n",
       "      <td>2</td>\n",
       "      <td>1.0</td>\n",
       "      <td>102</td>\n",
       "    </tr>\n",
       "    <tr>\n",
       "      <th>4</th>\n",
       "      <td>Rómulo O'farril 520, Colonia Olivar De Los P...</td>\n",
       "      <td>19.337762</td>\n",
       "      <td>-99.214591</td>\n",
       "      <td>14500</td>\n",
       "      <td>2</td>\n",
       "      <td>2.0</td>\n",
       "      <td>76</td>\n",
       "    </tr>\n",
       "  </tbody>\n",
       "</table>\n",
       "</div>"
      ],
      "text/plain": [
       "                                             Address    Latitud   Longitud  \\\n",
       "0    Tokio 65, A1, Juárez, Cuauhtémoc, Distrito F...  19.423694 -99.172191   \n",
       "1    Azalea 152, Lomas Quebradas, La Magdalena Co...  19.314178 -99.246085   \n",
       "2    Lago Iseo 532, Be Grand Alto Polanc, Colonia...  19.441025 -99.181858   \n",
       "3    Congreso 113, La Joya, Tlalpan, Distrito Fed...  19.280332 -99.168200   \n",
       "4    Rómulo O'farril 520, Colonia Olivar De Los P...  19.337762 -99.214591   \n",
       "\n",
       "   Price(MX$)  Bedrooms  Bathrooms Size(m2)  \n",
       "0       30000         2        2.0      107  \n",
       "1       13500         2        2.0      140  \n",
       "2       35000         2        2.0      109  \n",
       "3       11350         2        1.0      102  \n",
       "4       14500         2        2.0       76  "
      ]
     },
     "execution_count": 10,
     "metadata": {},
     "output_type": "execute_result"
    }
   ],
   "source": [
    "final = pd.merge(address,data_all, on='Address', how='left')\n",
    "\n",
    "final.drop_duplicates().head()"
   ]
  },
  {
   "cell_type": "code",
   "execution_count": 11,
   "metadata": {},
   "outputs": [
    {
     "data": {
      "text/html": [
       "<div>\n",
       "<style scoped>\n",
       "    .dataframe tbody tr th:only-of-type {\n",
       "        vertical-align: middle;\n",
       "    }\n",
       "\n",
       "    .dataframe tbody tr th {\n",
       "        vertical-align: top;\n",
       "    }\n",
       "\n",
       "    .dataframe thead th {\n",
       "        text-align: right;\n",
       "    }\n",
       "</style>\n",
       "<table border=\"1\" class=\"dataframe\">\n",
       "  <thead>\n",
       "    <tr style=\"text-align: right;\">\n",
       "      <th></th>\n",
       "      <th>Address</th>\n",
       "      <th>Price(MX$)</th>\n",
       "      <th>Bedrooms</th>\n",
       "      <th>Bathrooms</th>\n",
       "      <th>Size(m2)</th>\n",
       "      <th>Latitud</th>\n",
       "      <th>Longitud</th>\n",
       "    </tr>\n",
       "  </thead>\n",
       "  <tbody>\n",
       "    <tr>\n",
       "      <th>0</th>\n",
       "      <td>Tokio 65, A1, Juárez, Cuauhtémoc, Distrito F...</td>\n",
       "      <td>30000</td>\n",
       "      <td>2</td>\n",
       "      <td>2.0</td>\n",
       "      <td>107</td>\n",
       "      <td>19.423694</td>\n",
       "      <td>-99.172191</td>\n",
       "    </tr>\n",
       "    <tr>\n",
       "      <th>1</th>\n",
       "      <td>Azalea 152, Lomas Quebradas, La Magdalena Co...</td>\n",
       "      <td>13500</td>\n",
       "      <td>2</td>\n",
       "      <td>2.0</td>\n",
       "      <td>140</td>\n",
       "      <td>19.314178</td>\n",
       "      <td>-99.246085</td>\n",
       "    </tr>\n",
       "    <tr>\n",
       "      <th>2</th>\n",
       "      <td>Lago Iseo 532, Be Grand Alto Polanc, Colonia...</td>\n",
       "      <td>35000</td>\n",
       "      <td>2</td>\n",
       "      <td>2.0</td>\n",
       "      <td>109</td>\n",
       "      <td>19.441025</td>\n",
       "      <td>-99.181858</td>\n",
       "    </tr>\n",
       "    <tr>\n",
       "      <th>3</th>\n",
       "      <td>Congreso 113, La Joya, Tlalpan, Distrito Fed...</td>\n",
       "      <td>11350</td>\n",
       "      <td>2</td>\n",
       "      <td>1.0</td>\n",
       "      <td>102</td>\n",
       "      <td>19.280332</td>\n",
       "      <td>-99.168200</td>\n",
       "    </tr>\n",
       "    <tr>\n",
       "      <th>4</th>\n",
       "      <td>Rómulo O'farril 520, Colonia Olivar De Los P...</td>\n",
       "      <td>14500</td>\n",
       "      <td>2</td>\n",
       "      <td>2.0</td>\n",
       "      <td>76</td>\n",
       "      <td>19.337762</td>\n",
       "      <td>-99.214591</td>\n",
       "    </tr>\n",
       "  </tbody>\n",
       "</table>\n",
       "</div>"
      ],
      "text/plain": [
       "                                             Address  Price(MX$)  Bedrooms  \\\n",
       "0    Tokio 65, A1, Juárez, Cuauhtémoc, Distrito F...       30000         2   \n",
       "1    Azalea 152, Lomas Quebradas, La Magdalena Co...       13500         2   \n",
       "2    Lago Iseo 532, Be Grand Alto Polanc, Colonia...       35000         2   \n",
       "3    Congreso 113, La Joya, Tlalpan, Distrito Fed...       11350         2   \n",
       "4    Rómulo O'farril 520, Colonia Olivar De Los P...       14500         2   \n",
       "\n",
       "   Bathrooms Size(m2)    Latitud   Longitud  \n",
       "0        2.0      107  19.423694 -99.172191  \n",
       "1        2.0      140  19.314178 -99.246085  \n",
       "2        2.0      109  19.441025 -99.181858  \n",
       "3        1.0      102  19.280332 -99.168200  \n",
       "4        2.0       76  19.337762 -99.214591  "
      ]
     },
     "execution_count": 11,
     "metadata": {},
     "output_type": "execute_result"
    }
   ],
   "source": [
    "column_order = ['Address','Price(MX$)','Bedrooms','Bathrooms','Size(m2)','Latitud','Longitud']\n",
    "lista_final = final[column_order]\n",
    "lista_final.head()"
   ]
  },
  {
   "cell_type": "code",
   "execution_count": 12,
   "metadata": {},
   "outputs": [],
   "source": [
    "lista_final.to_csv('lista_final.csv', sep=\"|\", index=False)"
   ]
  },
  {
   "cell_type": "code",
   "execution_count": null,
   "metadata": {},
   "outputs": [],
   "source": []
  },
  {
   "cell_type": "code",
   "execution_count": null,
   "metadata": {},
   "outputs": [],
   "source": []
  },
  {
   "cell_type": "code",
   "execution_count": 15,
   "metadata": {},
   "outputs": [],
   "source": [
    "def filtrado():\n",
    "    print('Bienvenido a RENTA2')\n",
    "    Precio = int(input('Por favor ingresa un rango de precios en los cuales buscas rentar'))\n",
    "    resp = ['5000-10000','11000-20000','21000-30000','31000-40000','Más de 50000']\n",
    "    Número_habitantes = int(input('Por favor ingrese el número de personas que habitarán el departamento'))\n",
    "    Lugar_trabajo = str(input('Por favor ingrese la dirección de trabajo'))\n",
    "    Hobby = str(input('Por favor ingresa tu mayor hobby'))\n",
    "    \n",
    "    return Precio, Número_habitantes, Lugar_trabajo, Hobbie"
   ]
  },
  {
   "cell_type": "code",
   "execution_count": null,
   "metadata": {},
   "outputs": [
    {
     "name": "stdout",
     "output_type": "stream",
     "text": [
      "Bienvenido a RENTA2\n"
     ]
    }
   ],
   "source": [
    "Precio, No_habitantes , Lugar_trabajo, Hobby = filtrado()"
   ]
  },
  {
   "cell_type": "code",
   "execution_count": null,
   "metadata": {},
   "outputs": [],
   "source": [
    "def sumita_2(x,y):\n",
    "    return x+y"
   ]
  },
  {
   "cell_type": "code",
   "execution_count": null,
   "metadata": {},
   "outputs": [],
   "source": [
    "Precio"
   ]
  },
  {
   "cell_type": "code",
   "execution_count": null,
   "metadata": {},
   "outputs": [],
   "source": [
    "localizar('tonala 10')"
   ]
  }
 ],
 "metadata": {
  "kernelspec": {
   "display_name": "Python 3",
   "language": "python",
   "name": "python3"
  },
  "language_info": {
   "codemirror_mode": {
    "name": "ipython",
    "version": 3
   },
   "file_extension": ".py",
   "mimetype": "text/x-python",
   "name": "python",
   "nbconvert_exporter": "python",
   "pygments_lexer": "ipython3",
   "version": "3.7.4"
  }
 },
 "nbformat": 4,
 "nbformat_minor": 2
}
