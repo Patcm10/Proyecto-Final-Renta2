{
 "cells": [
  {
   "cell_type": "code",
   "execution_count": 1,
   "metadata": {},
   "outputs": [],
   "source": [
    "import pandas as pd"
   ]
  },
  {
   "cell_type": "code",
   "execution_count": 2,
   "metadata": {},
   "outputs": [],
   "source": [
    "address = pd.read_csv('Address.csv', sep ='|')"
   ]
  },
  {
   "cell_type": "code",
   "execution_count": 3,
   "metadata": {},
   "outputs": [],
   "source": [
    "data_all = pd.read_csv('Web-Scrapping-Proyecto Final.csv', sep='|')"
   ]
  },
  {
   "cell_type": "code",
   "execution_count": 4,
   "metadata": {},
   "outputs": [
    {
     "data": {
      "text/html": [
       "<div>\n",
       "<style scoped>\n",
       "    .dataframe tbody tr th:only-of-type {\n",
       "        vertical-align: middle;\n",
       "    }\n",
       "\n",
       "    .dataframe tbody tr th {\n",
       "        vertical-align: top;\n",
       "    }\n",
       "\n",
       "    .dataframe thead th {\n",
       "        text-align: right;\n",
       "    }\n",
       "</style>\n",
       "<table border=\"1\" class=\"dataframe\">\n",
       "  <thead>\n",
       "    <tr style=\"text-align: right;\">\n",
       "      <th></th>\n",
       "      <th>Address</th>\n",
       "      <th>Latitud</th>\n",
       "      <th>Longitud</th>\n",
       "    </tr>\n",
       "  </thead>\n",
       "  <tbody>\n",
       "    <tr>\n",
       "      <th>0</th>\n",
       "      <td>Tokio 65, A1, Juárez, Cuauhtémoc, Distrito F...</td>\n",
       "      <td>19.423694</td>\n",
       "      <td>-99.172191</td>\n",
       "    </tr>\n",
       "    <tr>\n",
       "      <th>1</th>\n",
       "      <td>Azalea 152, Lomas Quebradas, La Magdalena Co...</td>\n",
       "      <td>19.314178</td>\n",
       "      <td>-99.246085</td>\n",
       "    </tr>\n",
       "    <tr>\n",
       "      <th>2</th>\n",
       "      <td>Lago Iseo 532, Be Grand Alto Polanc, Colonia...</td>\n",
       "      <td>19.441025</td>\n",
       "      <td>-99.181858</td>\n",
       "    </tr>\n",
       "    <tr>\n",
       "      <th>3</th>\n",
       "      <td>Congreso 113, La Joya, Tlalpan, Distrito Fed...</td>\n",
       "      <td>19.280332</td>\n",
       "      <td>-99.168200</td>\n",
       "    </tr>\n",
       "    <tr>\n",
       "      <th>4</th>\n",
       "      <td>Rómulo O'farril 520, Colonia Olivar De Los P...</td>\n",
       "      <td>19.337762</td>\n",
       "      <td>-99.214591</td>\n",
       "    </tr>\n",
       "  </tbody>\n",
       "</table>\n",
       "</div>"
      ],
      "text/plain": [
       "                                             Address    Latitud   Longitud\n",
       "0    Tokio 65, A1, Juárez, Cuauhtémoc, Distrito F...  19.423694 -99.172191\n",
       "1    Azalea 152, Lomas Quebradas, La Magdalena Co...  19.314178 -99.246085\n",
       "2    Lago Iseo 532, Be Grand Alto Polanc, Colonia...  19.441025 -99.181858\n",
       "3    Congreso 113, La Joya, Tlalpan, Distrito Fed...  19.280332 -99.168200\n",
       "4    Rómulo O'farril 520, Colonia Olivar De Los P...  19.337762 -99.214591"
      ]
     },
     "execution_count": 4,
     "metadata": {},
     "output_type": "execute_result"
    }
   ],
   "source": [
    "address.head()"
   ]
  },
  {
   "cell_type": "code",
   "execution_count": 5,
   "metadata": {
    "scrolled": true
   },
   "outputs": [
    {
     "data": {
      "text/html": [
       "<div>\n",
       "<style scoped>\n",
       "    .dataframe tbody tr th:only-of-type {\n",
       "        vertical-align: middle;\n",
       "    }\n",
       "\n",
       "    .dataframe tbody tr th {\n",
       "        vertical-align: top;\n",
       "    }\n",
       "\n",
       "    .dataframe thead th {\n",
       "        text-align: right;\n",
       "    }\n",
       "</style>\n",
       "<table border=\"1\" class=\"dataframe\">\n",
       "  <thead>\n",
       "    <tr style=\"text-align: right;\">\n",
       "      <th></th>\n",
       "      <th>Address</th>\n",
       "      <th>Price(MX$)</th>\n",
       "      <th>Bedrooms</th>\n",
       "      <th>Bathrooms</th>\n",
       "      <th>Size(m2)</th>\n",
       "    </tr>\n",
       "  </thead>\n",
       "  <tbody>\n",
       "    <tr>\n",
       "      <th>0</th>\n",
       "      <td>Tokio 65, A1, Juárez, Cuauhtémoc, Distrito F...</td>\n",
       "      <td>30000</td>\n",
       "      <td>2</td>\n",
       "      <td>2.0</td>\n",
       "      <td>107</td>\n",
       "    </tr>\n",
       "    <tr>\n",
       "      <th>1</th>\n",
       "      <td>Azalea 152, Lomas Quebradas, La Magdalena Co...</td>\n",
       "      <td>13500</td>\n",
       "      <td>2</td>\n",
       "      <td>2.0</td>\n",
       "      <td>140</td>\n",
       "    </tr>\n",
       "    <tr>\n",
       "      <th>2</th>\n",
       "      <td>Lago Iseo 532, Be Grand Alto Polanc, Colonia...</td>\n",
       "      <td>35000</td>\n",
       "      <td>2</td>\n",
       "      <td>2.0</td>\n",
       "      <td>109</td>\n",
       "    </tr>\n",
       "    <tr>\n",
       "      <th>3</th>\n",
       "      <td>Congreso 113, La Joya, Tlalpan, Distrito Fed...</td>\n",
       "      <td>11350</td>\n",
       "      <td>2</td>\n",
       "      <td>1.0</td>\n",
       "      <td>102</td>\n",
       "    </tr>\n",
       "    <tr>\n",
       "      <th>4</th>\n",
       "      <td>Rómulo O'farril 520, Colonia Olivar De Los P...</td>\n",
       "      <td>14500</td>\n",
       "      <td>2</td>\n",
       "      <td>2.0</td>\n",
       "      <td>76</td>\n",
       "    </tr>\n",
       "  </tbody>\n",
       "</table>\n",
       "</div>"
      ],
      "text/plain": [
       "                                             Address  Price(MX$)  Bedrooms  \\\n",
       "0    Tokio 65, A1, Juárez, Cuauhtémoc, Distrito F...       30000         2   \n",
       "1    Azalea 152, Lomas Quebradas, La Magdalena Co...       13500         2   \n",
       "2    Lago Iseo 532, Be Grand Alto Polanc, Colonia...       35000         2   \n",
       "3    Congreso 113, La Joya, Tlalpan, Distrito Fed...       11350         2   \n",
       "4    Rómulo O'farril 520, Colonia Olivar De Los P...       14500         2   \n",
       "\n",
       "   Bathrooms Size(m2)  \n",
       "0        2.0      107  \n",
       "1        2.0      140  \n",
       "2        2.0      109  \n",
       "3        1.0      102  \n",
       "4        2.0       76  "
      ]
     },
     "execution_count": 5,
     "metadata": {},
     "output_type": "execute_result"
    }
   ],
   "source": [
    "data_all.head()"
   ]
  },
  {
   "cell_type": "code",
   "execution_count": 6,
   "metadata": {},
   "outputs": [
    {
     "data": {
      "text/html": [
       "<div>\n",
       "<style scoped>\n",
       "    .dataframe tbody tr th:only-of-type {\n",
       "        vertical-align: middle;\n",
       "    }\n",
       "\n",
       "    .dataframe tbody tr th {\n",
       "        vertical-align: top;\n",
       "    }\n",
       "\n",
       "    .dataframe thead th {\n",
       "        text-align: right;\n",
       "    }\n",
       "</style>\n",
       "<table border=\"1\" class=\"dataframe\">\n",
       "  <thead>\n",
       "    <tr style=\"text-align: right;\">\n",
       "      <th></th>\n",
       "      <th>Address</th>\n",
       "      <th>Latitud</th>\n",
       "      <th>Longitud</th>\n",
       "      <th>Price(MX$)</th>\n",
       "      <th>Bedrooms</th>\n",
       "      <th>Bathrooms</th>\n",
       "      <th>Size(m2)</th>\n",
       "    </tr>\n",
       "  </thead>\n",
       "  <tbody>\n",
       "    <tr>\n",
       "      <th>0</th>\n",
       "      <td>Tokio 65, A1, Juárez, Cuauhtémoc, Distrito F...</td>\n",
       "      <td>19.423694</td>\n",
       "      <td>-99.172191</td>\n",
       "      <td>30000</td>\n",
       "      <td>2</td>\n",
       "      <td>2.0</td>\n",
       "      <td>107</td>\n",
       "    </tr>\n",
       "    <tr>\n",
       "      <th>1</th>\n",
       "      <td>Azalea 152, Lomas Quebradas, La Magdalena Co...</td>\n",
       "      <td>19.314178</td>\n",
       "      <td>-99.246085</td>\n",
       "      <td>13500</td>\n",
       "      <td>2</td>\n",
       "      <td>2.0</td>\n",
       "      <td>140</td>\n",
       "    </tr>\n",
       "    <tr>\n",
       "      <th>2</th>\n",
       "      <td>Lago Iseo 532, Be Grand Alto Polanc, Colonia...</td>\n",
       "      <td>19.441025</td>\n",
       "      <td>-99.181858</td>\n",
       "      <td>35000</td>\n",
       "      <td>2</td>\n",
       "      <td>2.0</td>\n",
       "      <td>109</td>\n",
       "    </tr>\n",
       "    <tr>\n",
       "      <th>3</th>\n",
       "      <td>Congreso 113, La Joya, Tlalpan, Distrito Fed...</td>\n",
       "      <td>19.280332</td>\n",
       "      <td>-99.168200</td>\n",
       "      <td>11350</td>\n",
       "      <td>2</td>\n",
       "      <td>1.0</td>\n",
       "      <td>102</td>\n",
       "    </tr>\n",
       "    <tr>\n",
       "      <th>4</th>\n",
       "      <td>Rómulo O'farril 520, Colonia Olivar De Los P...</td>\n",
       "      <td>19.337762</td>\n",
       "      <td>-99.214591</td>\n",
       "      <td>14500</td>\n",
       "      <td>2</td>\n",
       "      <td>2.0</td>\n",
       "      <td>76</td>\n",
       "    </tr>\n",
       "  </tbody>\n",
       "</table>\n",
       "</div>"
      ],
      "text/plain": [
       "                                             Address    Latitud   Longitud  \\\n",
       "0    Tokio 65, A1, Juárez, Cuauhtémoc, Distrito F...  19.423694 -99.172191   \n",
       "1    Azalea 152, Lomas Quebradas, La Magdalena Co...  19.314178 -99.246085   \n",
       "2    Lago Iseo 532, Be Grand Alto Polanc, Colonia...  19.441025 -99.181858   \n",
       "3    Congreso 113, La Joya, Tlalpan, Distrito Fed...  19.280332 -99.168200   \n",
       "4    Rómulo O'farril 520, Colonia Olivar De Los P...  19.337762 -99.214591   \n",
       "\n",
       "   Price(MX$)  Bedrooms  Bathrooms Size(m2)  \n",
       "0       30000         2        2.0      107  \n",
       "1       13500         2        2.0      140  \n",
       "2       35000         2        2.0      109  \n",
       "3       11350         2        1.0      102  \n",
       "4       14500         2        2.0       76  "
      ]
     },
     "execution_count": 6,
     "metadata": {},
     "output_type": "execute_result"
    }
   ],
   "source": [
    "final = pd.merge(address,data_all, on='Address', how='left')\n",
    "\n",
    "final.drop_duplicates().head()"
   ]
  },
  {
   "cell_type": "code",
   "execution_count": 7,
   "metadata": {},
   "outputs": [
    {
     "data": {
      "text/html": [
       "<div>\n",
       "<style scoped>\n",
       "    .dataframe tbody tr th:only-of-type {\n",
       "        vertical-align: middle;\n",
       "    }\n",
       "\n",
       "    .dataframe tbody tr th {\n",
       "        vertical-align: top;\n",
       "    }\n",
       "\n",
       "    .dataframe thead th {\n",
       "        text-align: right;\n",
       "    }\n",
       "</style>\n",
       "<table border=\"1\" class=\"dataframe\">\n",
       "  <thead>\n",
       "    <tr style=\"text-align: right;\">\n",
       "      <th></th>\n",
       "      <th>Address</th>\n",
       "      <th>Price(MX$)</th>\n",
       "      <th>Bedrooms</th>\n",
       "      <th>Bathrooms</th>\n",
       "      <th>Size(m2)</th>\n",
       "      <th>Latitud</th>\n",
       "      <th>Longitud</th>\n",
       "    </tr>\n",
       "  </thead>\n",
       "  <tbody>\n",
       "    <tr>\n",
       "      <th>0</th>\n",
       "      <td>Tokio 65, A1, Juárez, Cuauhtémoc, Distrito F...</td>\n",
       "      <td>30000</td>\n",
       "      <td>2</td>\n",
       "      <td>2.0</td>\n",
       "      <td>107</td>\n",
       "      <td>19.423694</td>\n",
       "      <td>-99.172191</td>\n",
       "    </tr>\n",
       "    <tr>\n",
       "      <th>1</th>\n",
       "      <td>Azalea 152, Lomas Quebradas, La Magdalena Co...</td>\n",
       "      <td>13500</td>\n",
       "      <td>2</td>\n",
       "      <td>2.0</td>\n",
       "      <td>140</td>\n",
       "      <td>19.314178</td>\n",
       "      <td>-99.246085</td>\n",
       "    </tr>\n",
       "    <tr>\n",
       "      <th>2</th>\n",
       "      <td>Lago Iseo 532, Be Grand Alto Polanc, Colonia...</td>\n",
       "      <td>35000</td>\n",
       "      <td>2</td>\n",
       "      <td>2.0</td>\n",
       "      <td>109</td>\n",
       "      <td>19.441025</td>\n",
       "      <td>-99.181858</td>\n",
       "    </tr>\n",
       "    <tr>\n",
       "      <th>3</th>\n",
       "      <td>Congreso 113, La Joya, Tlalpan, Distrito Fed...</td>\n",
       "      <td>11350</td>\n",
       "      <td>2</td>\n",
       "      <td>1.0</td>\n",
       "      <td>102</td>\n",
       "      <td>19.280332</td>\n",
       "      <td>-99.168200</td>\n",
       "    </tr>\n",
       "    <tr>\n",
       "      <th>4</th>\n",
       "      <td>Rómulo O'farril 520, Colonia Olivar De Los P...</td>\n",
       "      <td>14500</td>\n",
       "      <td>2</td>\n",
       "      <td>2.0</td>\n",
       "      <td>76</td>\n",
       "      <td>19.337762</td>\n",
       "      <td>-99.214591</td>\n",
       "    </tr>\n",
       "  </tbody>\n",
       "</table>\n",
       "</div>"
      ],
      "text/plain": [
       "                                             Address  Price(MX$)  Bedrooms  \\\n",
       "0    Tokio 65, A1, Juárez, Cuauhtémoc, Distrito F...       30000         2   \n",
       "1    Azalea 152, Lomas Quebradas, La Magdalena Co...       13500         2   \n",
       "2    Lago Iseo 532, Be Grand Alto Polanc, Colonia...       35000         2   \n",
       "3    Congreso 113, La Joya, Tlalpan, Distrito Fed...       11350         2   \n",
       "4    Rómulo O'farril 520, Colonia Olivar De Los P...       14500         2   \n",
       "\n",
       "   Bathrooms Size(m2)    Latitud   Longitud  \n",
       "0        2.0      107  19.423694 -99.172191  \n",
       "1        2.0      140  19.314178 -99.246085  \n",
       "2        2.0      109  19.441025 -99.181858  \n",
       "3        1.0      102  19.280332 -99.168200  \n",
       "4        2.0       76  19.337762 -99.214591  "
      ]
     },
     "execution_count": 7,
     "metadata": {},
     "output_type": "execute_result"
    }
   ],
   "source": [
    "column_order = ['Address','Price(MX$)','Bedrooms','Bathrooms','Size(m2)','Latitud','Longitud']\n",
    "lista_final = final[column_order]\n",
    "lista_final.head()"
   ]
  },
  {
   "cell_type": "code",
   "execution_count": 8,
   "metadata": {},
   "outputs": [],
   "source": [
    "#lista_final.to_csv('lista_final.csv', sep=\"|\", index=False)"
   ]
  },
  {
   "cell_type": "code",
   "execution_count": 9,
   "metadata": {},
   "outputs": [
    {
     "name": "stderr",
     "output_type": "stream",
     "text": [
      "/usr/local/Cellar/ipython/7.7.0/libexec/vendor/lib/python3.7/site-packages/ipykernel_launcher.py:1: SettingWithCopyWarning: \n",
      "A value is trying to be set on a copy of a slice from a DataFrame.\n",
      "Try using .loc[row_indexer,col_indexer] = value instead\n",
      "\n",
      "See the caveats in the documentation: http://pandas.pydata.org/pandas-docs/stable/indexing.html#indexing-view-versus-copy\n",
      "  \"\"\"Entry point for launching an IPython kernel.\n"
     ]
    }
   ],
   "source": [
    "lista_final['Coordinates']= lista_final.apply(lambda x: str(x['Latitud']) + \",\" + str(x['Longitud']), axis=1)"
   ]
  },
  {
   "cell_type": "code",
   "execution_count": 10,
   "metadata": {
    "scrolled": true
   },
   "outputs": [
    {
     "data": {
      "text/html": [
       "<div>\n",
       "<style scoped>\n",
       "    .dataframe tbody tr th:only-of-type {\n",
       "        vertical-align: middle;\n",
       "    }\n",
       "\n",
       "    .dataframe tbody tr th {\n",
       "        vertical-align: top;\n",
       "    }\n",
       "\n",
       "    .dataframe thead th {\n",
       "        text-align: right;\n",
       "    }\n",
       "</style>\n",
       "<table border=\"1\" class=\"dataframe\">\n",
       "  <thead>\n",
       "    <tr style=\"text-align: right;\">\n",
       "      <th></th>\n",
       "      <th>Address</th>\n",
       "      <th>Price(MX$)</th>\n",
       "      <th>Bedrooms</th>\n",
       "      <th>Bathrooms</th>\n",
       "      <th>Size(m2)</th>\n",
       "      <th>Latitud</th>\n",
       "      <th>Longitud</th>\n",
       "      <th>Coordinates</th>\n",
       "    </tr>\n",
       "  </thead>\n",
       "  <tbody>\n",
       "    <tr>\n",
       "      <th>0</th>\n",
       "      <td>Tokio 65, A1, Juárez, Cuauhtémoc, Distrito F...</td>\n",
       "      <td>30000</td>\n",
       "      <td>2</td>\n",
       "      <td>2.0</td>\n",
       "      <td>107</td>\n",
       "      <td>19.423694</td>\n",
       "      <td>-99.172191</td>\n",
       "      <td>19.4236938,-99.1721906</td>\n",
       "    </tr>\n",
       "    <tr>\n",
       "      <th>1</th>\n",
       "      <td>Azalea 152, Lomas Quebradas, La Magdalena Co...</td>\n",
       "      <td>13500</td>\n",
       "      <td>2</td>\n",
       "      <td>2.0</td>\n",
       "      <td>140</td>\n",
       "      <td>19.314178</td>\n",
       "      <td>-99.246085</td>\n",
       "      <td>19.314178100000003,-99.2460849</td>\n",
       "    </tr>\n",
       "    <tr>\n",
       "      <th>2</th>\n",
       "      <td>Lago Iseo 532, Be Grand Alto Polanc, Colonia...</td>\n",
       "      <td>35000</td>\n",
       "      <td>2</td>\n",
       "      <td>2.0</td>\n",
       "      <td>109</td>\n",
       "      <td>19.441025</td>\n",
       "      <td>-99.181858</td>\n",
       "      <td>19.4410251,-99.181858</td>\n",
       "    </tr>\n",
       "    <tr>\n",
       "      <th>3</th>\n",
       "      <td>Congreso 113, La Joya, Tlalpan, Distrito Fed...</td>\n",
       "      <td>11350</td>\n",
       "      <td>2</td>\n",
       "      <td>1.0</td>\n",
       "      <td>102</td>\n",
       "      <td>19.280332</td>\n",
       "      <td>-99.168200</td>\n",
       "      <td>19.2803318,-99.1682004</td>\n",
       "    </tr>\n",
       "    <tr>\n",
       "      <th>4</th>\n",
       "      <td>Rómulo O'farril 520, Colonia Olivar De Los P...</td>\n",
       "      <td>14500</td>\n",
       "      <td>2</td>\n",
       "      <td>2.0</td>\n",
       "      <td>76</td>\n",
       "      <td>19.337762</td>\n",
       "      <td>-99.214591</td>\n",
       "      <td>19.3377623,-99.2145908</td>\n",
       "    </tr>\n",
       "  </tbody>\n",
       "</table>\n",
       "</div>"
      ],
      "text/plain": [
       "                                             Address  Price(MX$)  Bedrooms  \\\n",
       "0    Tokio 65, A1, Juárez, Cuauhtémoc, Distrito F...       30000         2   \n",
       "1    Azalea 152, Lomas Quebradas, La Magdalena Co...       13500         2   \n",
       "2    Lago Iseo 532, Be Grand Alto Polanc, Colonia...       35000         2   \n",
       "3    Congreso 113, La Joya, Tlalpan, Distrito Fed...       11350         2   \n",
       "4    Rómulo O'farril 520, Colonia Olivar De Los P...       14500         2   \n",
       "\n",
       "   Bathrooms Size(m2)    Latitud   Longitud                     Coordinates  \n",
       "0        2.0      107  19.423694 -99.172191          19.4236938,-99.1721906  \n",
       "1        2.0      140  19.314178 -99.246085  19.314178100000003,-99.2460849  \n",
       "2        2.0      109  19.441025 -99.181858           19.4410251,-99.181858  \n",
       "3        1.0      102  19.280332 -99.168200          19.2803318,-99.1682004  \n",
       "4        2.0       76  19.337762 -99.214591          19.3377623,-99.2145908  "
      ]
     },
     "execution_count": 10,
     "metadata": {},
     "output_type": "execute_result"
    }
   ],
   "source": [
    "lista_final.head()"
   ]
  },
  {
   "cell_type": "code",
   "execution_count": 11,
   "metadata": {},
   "outputs": [],
   "source": [
    "lista_final.to_csv('lista_final.csv', sep=\"|\", index=False)"
   ]
  },
  {
   "cell_type": "code",
   "execution_count": 12,
   "metadata": {},
   "outputs": [],
   "source": [
    "def filtrado():\n",
    "    print('Bienvenido a RENTA2')\n",
    "    Precio = int(input('Por favor ingresa un rango de precios en los cuales buscas rentar'))\n",
    "    resp = ['5000-10000','11000-20000','21000-30000','31000-40000','Más de 50000']\n",
    "    Número_habitantes = int(input('Por favor ingrese el número de personas que habitarán el departamento'))\n",
    "    Lugar_trabajo = str(input('Por favor ingrese la dirección de trabajo'))\n",
    "    Hobby = str(input('Por favor ingresa tu mayor hobby'))\n",
    "    \n",
    "    return Precio, Número_habitantes, Lugar_trabajo, Hobbie"
   ]
  },
  {
   "cell_type": "code",
   "execution_count": 13,
   "metadata": {},
   "outputs": [],
   "source": [
    "#Precio, No_habitantes , Lugar_trabajo, Hobby = filtrado()"
   ]
  },
  {
   "cell_type": "code",
   "execution_count": 14,
   "metadata": {},
   "outputs": [],
   "source": [
    "def generateBaseMap(default_location=[19.4236938,-99.1721906], default_zoom_start=12):\n",
    "    base_map = folium.Map(location=default_location, control_scale=True, zoom_start=default_zoom_start)\n",
    "    return base_map"
   ]
  },
  {
   "cell_type": "code",
   "execution_count": 18,
   "metadata": {
    "scrolled": true
   },
   "outputs": [
    {
     "data": {
      "text/html": [
       "<div style=\"width:100%;\"><div style=\"position:relative;width:100%;height:0;padding-bottom:60%;\"><iframe src=\"data:text/html;charset=utf-8;base64,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\" style=\"position:absolute;width:100%;height:100%;left:0;top:0;border:none !important;\" allowfullscreen webkitallowfullscreen mozallowfullscreen></iframe></div></div>"
      ],
      "text/plain": [
       "<folium.folium.Map at 0x11c2bddd0>"
      ]
     },
     "execution_count": 18,
     "metadata": {},
     "output_type": "execute_result"
    }
   ],
   "source": [
    "import folium\n",
    "from folium.plugins import HeatMap\n",
    "\n",
    "base_map = generateBaseMap()\n",
    "HeatMap(data=lista_final[['Latitud', 'Longitud']].groupby(['Latitud','Longitud']).sum().reset_index().values.tolist(), radius=8, max_zoom=13).add_to(base_map)\n",
    "base_map"
   ]
  },
  {
   "cell_type": "code",
   "execution_count": 22,
   "metadata": {},
   "outputs": [],
   "source": [
    "#base_map.add_child(folium.ClickForMarker(popup='Potential Location'))"
   ]
  },
  {
   "cell_type": "code",
   "execution_count": 19,
   "metadata": {},
   "outputs": [],
   "source": [
    "#base_map.save('heatmap.html')"
   ]
  },
  {
   "cell_type": "code",
   "execution_count": null,
   "metadata": {},
   "outputs": [],
   "source": []
  },
  {
   "cell_type": "code",
   "execution_count": null,
   "metadata": {},
   "outputs": [],
   "source": []
  },
  {
   "cell_type": "code",
   "execution_count": null,
   "metadata": {},
   "outputs": [],
   "source": []
  }
 ],
 "metadata": {
  "kernelspec": {
   "display_name": "Python 3",
   "language": "python",
   "name": "python3"
  },
  "language_info": {
   "codemirror_mode": {
    "name": "ipython",
    "version": 3
   },
   "file_extension": ".py",
   "mimetype": "text/x-python",
   "name": "python",
   "nbconvert_exporter": "python",
   "pygments_lexer": "ipython3",
   "version": "3.7.4"
  }
 },
 "nbformat": 4,
 "nbformat_minor": 2
}
